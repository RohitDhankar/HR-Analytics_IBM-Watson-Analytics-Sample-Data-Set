{
 "cells": [
  {
   "cell_type": "markdown",
   "metadata": {
    "raw_mimetype": "text/markdown"
   },
   "source": [
    "# STEP -1\n",
    "### Feature Reduction - defined as Reducing Number of Features ,utilized for Classification. \n",
    " Before we proceed with Classification - we \"may need\" - Feature Reduction.\n",
    "\n",
    "\n",
    "# STEP -2\n",
    "### Factor Analysis - Factor Analysis is not to be considered as a Feature or Dimension Reduction technique. \n",
    "  Quoting Prof Mitra IIT Kanpur - Source - http://textofvideo.nptel.iitm.ac.in/111104024/lec38.pdf\n",
    "###   \"FA explains the covariance structure or the  variance  covariance  structure, of  a  random  vector in terms  of  a  few  underlying  unobservable  factors.\" \n",
    "\n",
    " According to Wiki quoted below - Exploratory Factor Analysis is the better option - compared to PCA \n",
    "###   \" Clearly though, PCA is a more basic version of exploratory factor analysis (EFA) that was developed in the early days prior to the advent of high-speed computers. From the point of view of exploratory analysis, the eigenvalues of PCA are inflated component loadings, i.e., contaminated with error variance\"\n",
    "\n",
    " Source --- https://en.wikipedia.org/wiki/Factor_analysis\n",
    " EFA , FA - Not done yet for this Data Set.\n",
    "\n",
    "\n",
    "# STEP -3\n",
    "### Principal Component Analysis - PCA \n",
    " Cant be done for this Data Set as most Features are Categorical.  \n",
    " Source :-  http://scikit-learn.org/stable/auto_examples/plot_compare_reduction.html#sphx-glr-auto-examples-plot-compare-reduction-py\n",
    " If PCA were to be undertaken \n",
    " - We can not include RESPONSE variable - Attrition.\n",
    " - Cant include any other Binomial Or Categorical Variables.\n",
    " - Categorical to be included only with advanced methods.\n",
    " - Advanced methods for PCA :- http://stats.stackexchange.com/questions/14002/whats-the-difference-between-principal-component-analysis-and-multidimensional/14013#14013\n",
    " - Advanced methods out of scope for now. \n",
    "### TBD -- Try again with \"advanced methods\" include Categorical Variables. \n",
    "\n",
    "\n",
    "# STEP -4\n",
    "### Pre Processing Data \n",
    "### Standardize Variables :- \n",
    "   - \"Democracy amongst Variables\" lets ensure All features have- Mean =0 and Variance =1 \n",
    "\n",
    "### Multiple options for SCALING and STANDARDIZATION with scikitlearn \n",
    "- Option -1 sklearn.preprocessing.scale - Done. Type= Function.\n",
    "- Option -2 sklearn.preprocessing.StandardScaler -Done. Type= Utility Class. \n",
    "- Option -3 MinMax Scaler -Not Required with this DataSet.\n",
    "\n",
    "# Dataset Train & Test Split -- k Fold CrossValidation with StartShuffleSplit - Done \n",
    "\n",
    "# STEP -5 \n",
    "### Choosing Classifiers :- \n",
    "\n",
    "- Logistic Regression - Done \n",
    "- kNN - k Nearest Neighbour - Done [Highest Accuracy scores as of NOW]. \n",
    "- Naive Bayes - Done but rejected - as not a good choice for this Dataset. \n",
    "- Neural Network MLP - Multi Layer Perceptron - TBD \n",
    "- Support Vector Machine - TBD \n",
    "- Decision Tree - TBD \n",
    "- Random Forests - TBD \n",
    "- TPOT and other \"Related Projects\" -- http://scikit-learn.org/stable/related_projects.html#related-projects\n",
    "- Pipeline the Classifiers - discover other options to auto-mate with Pipeline \n",
    "- Keras , TensorFlow , Theano - what else have you ? \n",
    "\n",
    "\n",
    "# STEP -6\n",
    "### Model Evaluation\n",
    " Need to ensure CLASSIFICATION ACCURACY displayed by Model on any Test data set\n",
    " is greater than - Ratio of Classes in Sample or Population  [All Train + All Test sets] \n",
    "\n",
    "# STEP -7 - TBD \n",
    "### Data Visualization \n",
    " Plot AUC and ROC Curves etc - look at own code from R Stats and earlier Python Notebooks incorporate data viz.  \n",
    "\n",
    "# STEP -8\n",
    " Look at Excel worksheets and R Parallels for this Project - using same Sample Data Set. Compare Performance as per Accuracy and Time etc. \n",
    "\n",
    "# STEP 9 \n",
    " Further investigation - Survival Analysis :- predicting when an employee is most likely to Churn or Exit. \n",
    "\n",
    "### Data Source Employee Attrition Data == WATSON Sample Data Sets\n",
    " https://www.ibm.com/communities/analytics/watson-analytics-blog/guide-to-sample-datasets/\n",
    "\n",
    "### Refrence :- \n",
    "  - http://datascience.stackexchange.com/questions/6715/is-it-necessary-to-standardize-your-data-before-clustering\n",
    "\n"
   ]
  },
  {
   "cell_type": "code",
   "execution_count": 1,
   "metadata": {
    "collapsed": true
   },
   "outputs": [],
   "source": [
    "import matplotlib.pyplot as plt\n",
    "import matplotlib as mpl\n",
    "import numpy as np\n",
    "import pandas as pd\n",
    "import scipy as sp\n",
    "from sklearn import mixture\n",
    "from sklearn.decomposition import PCA\n",
    "from sklearn.metrics import confusion_matrix\n",
    "\n",
    "%matplotlib inline\n",
    "\n"
   ]
  },
  {
   "cell_type": "code",
   "execution_count": 2,
   "metadata": {
    "collapsed": false
   },
   "outputs": [
    {
     "data": {
      "text/html": [
       "<div>\n",
       "<table border=\"1\" class=\"dataframe\">\n",
       "  <thead>\n",
       "    <tr style=\"text-align: right;\">\n",
       "      <th></th>\n",
       "      <th>Age</th>\n",
       "      <th>Attrition</th>\n",
       "      <th>BusinessTravel</th>\n",
       "      <th>DailyRate</th>\n",
       "      <th>Department</th>\n",
       "      <th>DistanceFromHome</th>\n",
       "      <th>Education</th>\n",
       "      <th>EducationField</th>\n",
       "      <th>EmployeeCount</th>\n",
       "      <th>EmployeeNumber</th>\n",
       "      <th>...</th>\n",
       "      <th>RelationshipSatisfaction</th>\n",
       "      <th>StandardHours</th>\n",
       "      <th>StockOptionLevel</th>\n",
       "      <th>TotalWorkingYears</th>\n",
       "      <th>TrainingTimesLastYear</th>\n",
       "      <th>WorkLifeBalance</th>\n",
       "      <th>YearsAtCompany</th>\n",
       "      <th>YearsInCurrentRole</th>\n",
       "      <th>YearsSinceLastPromotion</th>\n",
       "      <th>YearsWithCurrManager</th>\n",
       "    </tr>\n",
       "  </thead>\n",
       "  <tbody>\n",
       "    <tr>\n",
       "      <th>0</th>\n",
       "      <td>41</td>\n",
       "      <td>Yes</td>\n",
       "      <td>Travel_Rarely</td>\n",
       "      <td>1102</td>\n",
       "      <td>Sales</td>\n",
       "      <td>1</td>\n",
       "      <td>2</td>\n",
       "      <td>Life Sciences</td>\n",
       "      <td>1</td>\n",
       "      <td>1</td>\n",
       "      <td>...</td>\n",
       "      <td>1</td>\n",
       "      <td>80</td>\n",
       "      <td>0</td>\n",
       "      <td>8</td>\n",
       "      <td>0</td>\n",
       "      <td>1</td>\n",
       "      <td>6</td>\n",
       "      <td>4</td>\n",
       "      <td>0</td>\n",
       "      <td>5</td>\n",
       "    </tr>\n",
       "    <tr>\n",
       "      <th>1</th>\n",
       "      <td>49</td>\n",
       "      <td>No</td>\n",
       "      <td>Travel_Frequently</td>\n",
       "      <td>279</td>\n",
       "      <td>Research &amp; Development</td>\n",
       "      <td>8</td>\n",
       "      <td>1</td>\n",
       "      <td>Life Sciences</td>\n",
       "      <td>1</td>\n",
       "      <td>2</td>\n",
       "      <td>...</td>\n",
       "      <td>4</td>\n",
       "      <td>80</td>\n",
       "      <td>1</td>\n",
       "      <td>10</td>\n",
       "      <td>3</td>\n",
       "      <td>3</td>\n",
       "      <td>10</td>\n",
       "      <td>7</td>\n",
       "      <td>1</td>\n",
       "      <td>7</td>\n",
       "    </tr>\n",
       "    <tr>\n",
       "      <th>2</th>\n",
       "      <td>37</td>\n",
       "      <td>Yes</td>\n",
       "      <td>Travel_Rarely</td>\n",
       "      <td>1373</td>\n",
       "      <td>Research &amp; Development</td>\n",
       "      <td>2</td>\n",
       "      <td>2</td>\n",
       "      <td>Other</td>\n",
       "      <td>1</td>\n",
       "      <td>3</td>\n",
       "      <td>...</td>\n",
       "      <td>2</td>\n",
       "      <td>80</td>\n",
       "      <td>0</td>\n",
       "      <td>7</td>\n",
       "      <td>3</td>\n",
       "      <td>3</td>\n",
       "      <td>0</td>\n",
       "      <td>0</td>\n",
       "      <td>0</td>\n",
       "      <td>0</td>\n",
       "    </tr>\n",
       "    <tr>\n",
       "      <th>3</th>\n",
       "      <td>33</td>\n",
       "      <td>No</td>\n",
       "      <td>Travel_Frequently</td>\n",
       "      <td>1392</td>\n",
       "      <td>Research &amp; Development</td>\n",
       "      <td>3</td>\n",
       "      <td>4</td>\n",
       "      <td>Life Sciences</td>\n",
       "      <td>1</td>\n",
       "      <td>4</td>\n",
       "      <td>...</td>\n",
       "      <td>3</td>\n",
       "      <td>80</td>\n",
       "      <td>0</td>\n",
       "      <td>8</td>\n",
       "      <td>3</td>\n",
       "      <td>3</td>\n",
       "      <td>8</td>\n",
       "      <td>7</td>\n",
       "      <td>3</td>\n",
       "      <td>0</td>\n",
       "    </tr>\n",
       "    <tr>\n",
       "      <th>4</th>\n",
       "      <td>27</td>\n",
       "      <td>No</td>\n",
       "      <td>Travel_Rarely</td>\n",
       "      <td>591</td>\n",
       "      <td>Research &amp; Development</td>\n",
       "      <td>2</td>\n",
       "      <td>1</td>\n",
       "      <td>Medical</td>\n",
       "      <td>1</td>\n",
       "      <td>5</td>\n",
       "      <td>...</td>\n",
       "      <td>4</td>\n",
       "      <td>80</td>\n",
       "      <td>1</td>\n",
       "      <td>6</td>\n",
       "      <td>3</td>\n",
       "      <td>3</td>\n",
       "      <td>2</td>\n",
       "      <td>2</td>\n",
       "      <td>2</td>\n",
       "      <td>2</td>\n",
       "    </tr>\n",
       "  </tbody>\n",
       "</table>\n",
       "<p>5 rows × 35 columns</p>\n",
       "</div>"
      ],
      "text/plain": [
       "   Age Attrition     BusinessTravel  DailyRate              Department  \\\n",
       "0   41       Yes      Travel_Rarely       1102                   Sales   \n",
       "1   49        No  Travel_Frequently        279  Research & Development   \n",
       "2   37       Yes      Travel_Rarely       1373  Research & Development   \n",
       "3   33        No  Travel_Frequently       1392  Research & Development   \n",
       "4   27        No      Travel_Rarely        591  Research & Development   \n",
       "\n",
       "   DistanceFromHome  Education EducationField  EmployeeCount  EmployeeNumber  \\\n",
       "0                 1          2  Life Sciences              1               1   \n",
       "1                 8          1  Life Sciences              1               2   \n",
       "2                 2          2          Other              1               3   \n",
       "3                 3          4  Life Sciences              1               4   \n",
       "4                 2          1        Medical              1               5   \n",
       "\n",
       "           ...           RelationshipSatisfaction StandardHours  \\\n",
       "0          ...                                  1            80   \n",
       "1          ...                                  4            80   \n",
       "2          ...                                  2            80   \n",
       "3          ...                                  3            80   \n",
       "4          ...                                  4            80   \n",
       "\n",
       "   StockOptionLevel  TotalWorkingYears  TrainingTimesLastYear WorkLifeBalance  \\\n",
       "0                 0                  8                      0               1   \n",
       "1                 1                 10                      3               3   \n",
       "2                 0                  7                      3               3   \n",
       "3                 0                  8                      3               3   \n",
       "4                 1                  6                      3               3   \n",
       "\n",
       "   YearsAtCompany YearsInCurrentRole  YearsSinceLastPromotion  \\\n",
       "0               6                  4                        0   \n",
       "1              10                  7                        1   \n",
       "2               0                  0                        0   \n",
       "3               8                  7                        3   \n",
       "4               2                  2                        2   \n",
       "\n",
       "   YearsWithCurrManager  \n",
       "0                     5  \n",
       "1                     7  \n",
       "2                     0  \n",
       "3                     0  \n",
       "4                     2  \n",
       "\n",
       "[5 rows x 35 columns]"
      ]
     },
     "execution_count": 2,
     "metadata": {},
     "output_type": "execute_result"
    }
   ],
   "source": [
    "# Pre Process- Data \n",
    "# Convert CSV file to TSV Shell Command ==> $  < FileName.csv tr \",\" \"\\t\" > FileName.tsv\n",
    "\n",
    "\n",
    "df=pd.read_csv('hr2.tsv',sep='\\t')\n",
    "df.head(5)\n",
    "\n",
    "# http://pandas.pydata.org/pandas-docs/stable/generated/pandas.read_csv.html\n",
    "# Read TSV with \\t \n",
    "\n"
   ]
  },
  {
   "cell_type": "code",
   "execution_count": 3,
   "metadata": {
    "collapsed": false
   },
   "outputs": [
    {
     "data": {
      "text/html": [
       "<div>\n",
       "<table border=\"1\" class=\"dataframe\">\n",
       "  <thead>\n",
       "    <tr style=\"text-align: right;\">\n",
       "      <th></th>\n",
       "      <th>Age</th>\n",
       "      <th>Attrition</th>\n",
       "      <th>BusinessTravel</th>\n",
       "      <th>DailyRate</th>\n",
       "      <th>Department</th>\n",
       "      <th>DistanceFromHome</th>\n",
       "      <th>Education</th>\n",
       "      <th>EducationField</th>\n",
       "      <th>EmployeeCount</th>\n",
       "      <th>EmployeeNumber</th>\n",
       "      <th>...</th>\n",
       "      <th>RelationshipSatisfaction</th>\n",
       "      <th>StandardHours</th>\n",
       "      <th>StockOptionLevel</th>\n",
       "      <th>TotalWorkingYears</th>\n",
       "      <th>TrainingTimesLastYear</th>\n",
       "      <th>WorkLifeBalance</th>\n",
       "      <th>YearsAtCompany</th>\n",
       "      <th>YearsInCurrentRole</th>\n",
       "      <th>YearsSinceLastPromotion</th>\n",
       "      <th>YearsWithCurrManager</th>\n",
       "    </tr>\n",
       "  </thead>\n",
       "  <tbody>\n",
       "    <tr>\n",
       "      <th>0</th>\n",
       "      <td>41</td>\n",
       "      <td>1</td>\n",
       "      <td>1</td>\n",
       "      <td>1102</td>\n",
       "      <td>3</td>\n",
       "      <td>1</td>\n",
       "      <td>2</td>\n",
       "      <td>1</td>\n",
       "      <td>1</td>\n",
       "      <td>1</td>\n",
       "      <td>...</td>\n",
       "      <td>1</td>\n",
       "      <td>80</td>\n",
       "      <td>0</td>\n",
       "      <td>8</td>\n",
       "      <td>0</td>\n",
       "      <td>1</td>\n",
       "      <td>6</td>\n",
       "      <td>4</td>\n",
       "      <td>0</td>\n",
       "      <td>5</td>\n",
       "    </tr>\n",
       "    <tr>\n",
       "      <th>1</th>\n",
       "      <td>49</td>\n",
       "      <td>0</td>\n",
       "      <td>2</td>\n",
       "      <td>279</td>\n",
       "      <td>1</td>\n",
       "      <td>8</td>\n",
       "      <td>1</td>\n",
       "      <td>1</td>\n",
       "      <td>1</td>\n",
       "      <td>2</td>\n",
       "      <td>...</td>\n",
       "      <td>4</td>\n",
       "      <td>80</td>\n",
       "      <td>1</td>\n",
       "      <td>10</td>\n",
       "      <td>3</td>\n",
       "      <td>3</td>\n",
       "      <td>10</td>\n",
       "      <td>7</td>\n",
       "      <td>1</td>\n",
       "      <td>7</td>\n",
       "    </tr>\n",
       "    <tr>\n",
       "      <th>2</th>\n",
       "      <td>37</td>\n",
       "      <td>1</td>\n",
       "      <td>1</td>\n",
       "      <td>1373</td>\n",
       "      <td>1</td>\n",
       "      <td>2</td>\n",
       "      <td>2</td>\n",
       "      <td>5</td>\n",
       "      <td>1</td>\n",
       "      <td>3</td>\n",
       "      <td>...</td>\n",
       "      <td>2</td>\n",
       "      <td>80</td>\n",
       "      <td>0</td>\n",
       "      <td>7</td>\n",
       "      <td>3</td>\n",
       "      <td>3</td>\n",
       "      <td>0</td>\n",
       "      <td>0</td>\n",
       "      <td>0</td>\n",
       "      <td>0</td>\n",
       "    </tr>\n",
       "    <tr>\n",
       "      <th>3</th>\n",
       "      <td>33</td>\n",
       "      <td>0</td>\n",
       "      <td>2</td>\n",
       "      <td>1392</td>\n",
       "      <td>1</td>\n",
       "      <td>3</td>\n",
       "      <td>4</td>\n",
       "      <td>1</td>\n",
       "      <td>1</td>\n",
       "      <td>4</td>\n",
       "      <td>...</td>\n",
       "      <td>3</td>\n",
       "      <td>80</td>\n",
       "      <td>0</td>\n",
       "      <td>8</td>\n",
       "      <td>3</td>\n",
       "      <td>3</td>\n",
       "      <td>8</td>\n",
       "      <td>7</td>\n",
       "      <td>3</td>\n",
       "      <td>0</td>\n",
       "    </tr>\n",
       "    <tr>\n",
       "      <th>4</th>\n",
       "      <td>27</td>\n",
       "      <td>0</td>\n",
       "      <td>1</td>\n",
       "      <td>591</td>\n",
       "      <td>1</td>\n",
       "      <td>2</td>\n",
       "      <td>1</td>\n",
       "      <td>6</td>\n",
       "      <td>1</td>\n",
       "      <td>5</td>\n",
       "      <td>...</td>\n",
       "      <td>4</td>\n",
       "      <td>80</td>\n",
       "      <td>1</td>\n",
       "      <td>6</td>\n",
       "      <td>3</td>\n",
       "      <td>3</td>\n",
       "      <td>2</td>\n",
       "      <td>2</td>\n",
       "      <td>2</td>\n",
       "      <td>2</td>\n",
       "    </tr>\n",
       "  </tbody>\n",
       "</table>\n",
       "<p>5 rows × 35 columns</p>\n",
       "</div>"
      ],
      "text/plain": [
       "   Age  Attrition  BusinessTravel  DailyRate  Department  DistanceFromHome  \\\n",
       "0   41          1               1       1102           3                 1   \n",
       "1   49          0               2        279           1                 8   \n",
       "2   37          1               1       1373           1                 2   \n",
       "3   33          0               2       1392           1                 3   \n",
       "4   27          0               1        591           1                 2   \n",
       "\n",
       "   Education  EducationField  EmployeeCount  EmployeeNumber  \\\n",
       "0          2               1              1               1   \n",
       "1          1               1              1               2   \n",
       "2          2               5              1               3   \n",
       "3          4               1              1               4   \n",
       "4          1               6              1               5   \n",
       "\n",
       "           ...           RelationshipSatisfaction  StandardHours  \\\n",
       "0          ...                                  1             80   \n",
       "1          ...                                  4             80   \n",
       "2          ...                                  2             80   \n",
       "3          ...                                  3             80   \n",
       "4          ...                                  4             80   \n",
       "\n",
       "   StockOptionLevel  TotalWorkingYears  TrainingTimesLastYear  \\\n",
       "0                 0                  8                      0   \n",
       "1                 1                 10                      3   \n",
       "2                 0                  7                      3   \n",
       "3                 0                  8                      3   \n",
       "4                 1                  6                      3   \n",
       "\n",
       "   WorkLifeBalance  YearsAtCompany  YearsInCurrentRole  \\\n",
       "0                1               6                   4   \n",
       "1                3              10                   7   \n",
       "2                3               0                   0   \n",
       "3                3               8                   7   \n",
       "4                3               2                   2   \n",
       "\n",
       "   YearsSinceLastPromotion  YearsWithCurrManager  \n",
       "0                        0                     5  \n",
       "1                        1                     7  \n",
       "2                        0                     0  \n",
       "3                        3                     0  \n",
       "4                        2                     2  \n",
       "\n",
       "[5 rows x 35 columns]"
      ]
     },
     "execution_count": 3,
     "metadata": {},
     "output_type": "execute_result"
    }
   ],
   "source": [
    "mymap = {'Yes':1,'No':0,'Travel_Rarely':1, 'Travel_Frequently': 2 ,'Non-Travel':3, 'Research & Development' :1 , \n",
    "         'Human Resources':2,'Sales':3,'Life Sciences':1,'Medical':6,'Technical Degree':3,'Marketing':4,'Other':5,\n",
    "        'Female':1, 'Male':2,'Research Scientist':1,'Laboratory Technician':2,'Healthcare Representative':3,\n",
    "         'Manufacturing Director':4,'Manager':5,'Sales Representative':6,'Research Director':7,'Sales Executive':8,\n",
    "        'Single':1,'Married':2,'Divorced':3}#Medical = 6 as HR =2 in another column\n",
    "\n",
    "#\n",
    "dfh =df.applymap(lambda s: mymap.get(s) if s in mymap else s)\n",
    "#\n",
    "dfh.head(5)\n",
    "#\n",
    "# In mymap == Yes =1 and No =0 - replacements made in both Attrition and OverTime\n",
    "# http://pandas.pydata.org/pandas-docs/stable/generated/pandas.DataFrame.applymap.html\n",
    "# http://pandas.pydata.org/pandas-docs/stable/indexing.html\n",
    "\n",
    "#dfh.to_csv('dfh_05DEC.csv') # Ok for down csv "
   ]
  },
  {
   "cell_type": "code",
   "execution_count": 4,
   "metadata": {
    "collapsed": false
   },
   "outputs": [
    {
     "name": "stdout",
     "output_type": "stream",
     "text": [
      "(2940, 30)\n",
      "________________________________________\n",
      "['Age' 'BusinessTravel' 'DailyRate' 'Department' 'DistanceFromHome'\n",
      " 'Education' 'EducationField' 'EnvironmentSatisfaction' 'Gender'\n",
      " 'HourlyRate' 'JobInvolvement' 'JobLevel' 'JobRole' 'JobSatisfaction'\n",
      " 'MaritalStatus' 'MonthlyIncome' 'MonthlyRate' 'NumCompaniesWorked'\n",
      " 'OverTime' 'PercentSalaryHike' 'PerformanceRating'\n",
      " 'RelationshipSatisfaction' 'StockOptionLevel' 'TotalWorkingYears'\n",
      " 'TrainingTimesLastYear' 'WorkLifeBalance' 'YearsAtCompany'\n",
      " 'YearsInCurrentRole' 'YearsSinceLastPromotion' 'YearsWithCurrManager']\n",
      "________________________________________\n",
      "['Attrition']\n",
      "(2940, 1)\n",
      "0    2466\n",
      "1     474\n",
      "Name: Attrition, dtype: int64\n"
     ]
    }
   ],
   "source": [
    "#InterimDF Dropped-Attr,EmployeeCount,EmployeeNumber ,Over18 and StandardHours\n",
    "df1 = dfh.drop(df.columns[[1,8,9,21,26]],axis=1,inplace=False) \n",
    "print df1.shape\n",
    "names = df1.columns.values\n",
    "print \"________________________________________\"\n",
    "print names\n",
    "print \"________________________________________\"\n",
    "df2 = pd.DataFrame(dfh[\"Attrition\"]) #  Interim DF only - Attr\n",
    "names1 = df2.columns.values\n",
    "print names1\n",
    "print df2.shape \n",
    "print df2[\"Attrition\"].value_counts() # Here - 0 == Live Employee , 1 == Exited Employee / Attrited Employee \n",
    "#\n",
    "#df3 = dfh[[\"Attrition\",\"DailyRate\"]] #  Interim DF only for PLotting - Attr + DailyRate\n",
    "#df3 = dfh[[\"MonthlyRate\",\"DailyRate\"]] #  Interim DF only for PLotting - Attr + DailyRate\n",
    "#print df3.head(5)"
   ]
  },
  {
   "cell_type": "code",
   "execution_count": 5,
   "metadata": {
    "collapsed": false
   },
   "outputs": [
    {
     "data": {
      "text/plain": [
       "<matplotlib.axes._subplots.AxesSubplot at 0x7fcce9a4f590>"
      ]
     },
     "execution_count": 5,
     "metadata": {},
     "output_type": "execute_result"
    },
    {
     "data": {
      "image/png": "[encoded data removed]",
      "text/plain": [
       "<matplotlib.figure.Figure at 0x7fcce9a4f110>"
      ]
     },
     "metadata": {},
     "output_type": "display_data"
    }
   ],
   "source": [
    "# Dataset boxplot for Means and Variances \n",
    "df1.plot(kind='box', vert=False)\n",
    "\n",
    "# Seen below - Features have large Variance - data set needs std and scaling "
   ]
  },
  {
   "cell_type": "code",
   "execution_count": 6,
   "metadata": {
    "collapsed": false
   },
   "outputs": [
    {
     "ename": "NameError",
     "evalue": "name 'df3' is not defined",
     "output_type": "error",
     "traceback": [
      "\u001b[1;31m---------------------------------------------------------------------------\u001b[0m",
      "\u001b[1;31mNameError\u001b[0m                                 Traceback (most recent call last)",
      "\u001b[1;32m<ipython-input-6-36e8003c4b89>\u001b[0m in \u001b[0;36m<module>\u001b[1;34m()\u001b[0m\n\u001b[0;32m      1\u001b[0m \u001b[1;31m# Interim DF - Density plot\u001b[0m\u001b[1;33m\u001b[0m\u001b[1;33m\u001b[0m\u001b[0m\n\u001b[1;32m----> 2\u001b[1;33m \u001b[0mdf3\u001b[0m\u001b[1;33m.\u001b[0m\u001b[0mplot\u001b[0m\u001b[1;33m(\u001b[0m\u001b[0mkind\u001b[0m\u001b[1;33m=\u001b[0m\u001b[1;34m'kde'\u001b[0m\u001b[1;33m)\u001b[0m\u001b[1;33m\u001b[0m\u001b[0m\n\u001b[0m\u001b[0;32m      3\u001b[0m \u001b[1;31m# No inference drawn as of now - To be Explored ..........???\u001b[0m\u001b[1;33m\u001b[0m\u001b[1;33m\u001b[0m\u001b[0m\n",
      "\u001b[1;31mNameError\u001b[0m: name 'df3' is not defined"
     ]
    }
   ],
   "source": [
    "# Interim DF - Density plot\n",
    "df3.plot(kind='kde')\n",
    "# No inference drawn as of now - To be Explored ..........??? \n"
   ]
  },
  {
   "cell_type": "code",
   "execution_count": 7,
   "metadata": {
    "collapsed": false
   },
   "outputs": [
    {
     "name": "stdout",
     "output_type": "stream",
     "text": [
      "(2940, 30)\n",
      "(2940,)\n",
      "_________________________________________________________\n",
      "('Target Variable \"Attrition\":', array([1, 0, 1, ..., 0, 0, 0]))\n",
      "_________________________________________________________\n",
      "('Class labels for Target Variable \"Attrition\":', array([0, 1]))\n",
      "_________________________________________________________\n",
      "Percentage of Class Label ==1 = 0.1612\n",
      "Percentage of Class Label ==0 = 0.8388\n",
      "_________________________________________________________\n",
      "Model that Predicts 83.88% Accuracy is Non Predictor OR NO_Model- as it will always predict Dominant Class\n",
      "This dataset Dominant Class = ZERO or LIVE EMPLOYEE - we need more than 83.88% Accuracy Score.\n",
      "_______________________________________________________#################__\n"
     ]
    }
   ],
   "source": [
    "# Convert DF to Numpy Array \n",
    "# 1st Numpy Array == X , only features \n",
    "# 2nd Numpy Array == y , only target Labels\n",
    "import numpy as np\n",
    "\n",
    "X = df1.iloc[:,0:30].values # All Features of - df1 besides Attr and AGE #TBD --- Need to ADD AGE ??? \n",
    "y = df2.iloc[:,0].values # Choosing only 1 - Target Feature from - dfh\n",
    "#\n",
    "print X.shape\n",
    "print y.shape\n",
    "#\n",
    "print \"_________________________________________________________\"\n",
    "print('Target Variable \"Attrition\":', (y))\n",
    "print \"_________________________________________________________\"\n",
    "print('Class labels for Target Variable \"Attrition\":', np.unique(y))\n",
    "print \"_________________________________________________________\"\n",
    "print('Percentage of Class Label ==1 = {:.4f}'.format(df2[\"Attrition\"].mean()))\n",
    "print('Percentage of Class Label ==0 = {:.4f}'.format(1-df2[\"Attrition\"].mean()))\n",
    "print \"_________________________________________________________\"\n",
    "print \"Model that Predicts 83.88% Accuracy is Non Predictor OR NO_Model- as it will always predict Dominant Class\"\n",
    "print \"This dataset Dominant Class = ZERO or LIVE EMPLOYEE - we need more than 83.88% Accuracy Score.\"\n",
    "print \"_______________________________________________________#################__\""
   ]
  },
  {
   "cell_type": "markdown",
   "metadata": {},
   "source": [
    "#### Source :-- http://scikit-learn.org/stable/modules/generated/sklearn.model_selection.StratifiedShuffleSplit.html#sklearn.model_selection.StratifiedShuffleSplit\n",
    "#### http://scikit-learn.org/stable/modules/cross_validation.html#cross-validation\n",
    "\n",
    "\"Some classification problems can exhibit a large imbalance in the distribution of the target classes: for instance\n",
    "there could be several times more negative samples than positive samples. In such cases it is recommended to \n",
    "use stratified sampling as implemented in StratifiedKFold and StratifiedShuffleSplit to ensure that relative \n",
    "class frequencies is approximately preserved in each train and validation fold.\"\n",
    "\n",
    "#### As seen in the code cell below - we have chosen a certain value for a Random Seed . As long as we dont change this Random Seed value manually [ or write a function and pass a different  SEED Value to Random ] - we shall keep getting the exact same values for our Features within the X_train , X_test , y_train and y_test.   \n",
    "\n",
    "\n",
    "Seed Values used for - random_state=123,124 etc "
   ]
  },
  {
   "cell_type": "code",
   "execution_count": 8,
   "metadata": {
    "collapsed": false
   },
   "outputs": [
    {
     "name": "stdout",
     "output_type": "stream",
     "text": [
      "__________________________________\n",
      "CPU times: user 0 ns, sys: 0 ns, total: 0 ns\n",
      "Wall time: 50.1 µs\n",
      "__________________________________\n",
      "StratifiedShuffleSplit(n_splits=10, random_state=124, test_size=0.3,\n",
      "            train_size=None)\n",
      "__________________________________\n",
      "(2058, 30)\n",
      "(2058,)\n",
      "(882, 30)\n",
      "(882,)\n"
     ]
    }
   ],
   "source": [
    "\n",
    "from sklearn.model_selection import StratifiedShuffleSplit\n",
    "#\n",
    "print \"__________________________________\"\n",
    "\n",
    "%time sss = StratifiedShuffleSplit(n_splits=10, test_size=0.3, random_state=124) # test_size=0.3 thus TRAIN_size =0.7 OR 70% \n",
    "sss.get_n_splits(X, y)\n",
    "\n",
    "print \"__________________________________\"\n",
    "print(sss)      \n",
    "print \"__________________________________\"\n",
    "\n",
    "for train_index, test_index in sss.split(X, y):\n",
    "#    print(\"TRAIN:\", train_index, \"TEST:\", test_index) # Printing INDEX Values not ACTUAL Feature Values \n",
    "    X_train, X_test = X[train_index], X[test_index]\n",
    "    y_train, y_test = y[train_index], y[test_index]\n",
    "#\n",
    "print X_train.shape\n",
    "print y_train.shape\n",
    "print X_test.shape\n",
    "print y_test.shape\n",
    "#\n",
    "np.savetxt(\"X_train.csv\", X_train, delimiter=\",\") # Numpy arrays saved as CSV's \n",
    "np.savetxt(\"y_train.csv\", y_train, delimiter=\",\") # Actual Values stored in these Numpy Arrays will Differ only... \n",
    "np.savetxt(\"X_test.csv\", X_test, delimiter=\",\")   # ...when the Seed value is changed above - random_state\n",
    "np.savetxt(\"y_test.csv\", y_test, delimiter=\",\")\n"
   ]
  },
  {
   "cell_type": "code",
   "execution_count": 9,
   "metadata": {
    "collapsed": false
   },
   "outputs": [
    {
     "data": {
      "image/png": "[encoded data removed]",
      "text/plain": [
       "<matplotlib.figure.Figure at 0x7fcce6887bd0>"
      ]
     },
     "metadata": {},
     "output_type": "display_data"
    },
    {
     "data": {
      "text/plain": [
       "<matplotlib.axes._subplots.AxesSubplot at 0x7fcce6b55210>"
      ]
     },
     "execution_count": 9,
     "metadata": {},
     "output_type": "execute_result"
    },
    {
     "data": {
      "image/png": "[encoded data removed]",
      "text/plain": [
       "<matplotlib.figure.Figure at 0x7fcce6393050>"
      ]
     },
     "metadata": {},
     "output_type": "display_data"
    }
   ],
   "source": [
    "#http://matplotlib.org/examples/pylab_examples/boxplot_demo.html\n",
    "import numpy as np\n",
    "import matplotlib.pyplot as plt\n",
    "\n",
    "# Compare - Pre and Post Standard Scaler Numpy Arrays \n",
    "plt.figure()\n",
    "#plt.boxplot(X_train, 1,vert=False)\n",
    "#plt.boxplot(X_train, 2,'gD',0)\n",
    "plt.boxplot(X_train, 2,'gD',0,0.5)\n",
    "plt.show()\n",
    "\n",
    "#\n",
    "# Dataset boxplot for Means and Variances \n",
    "df1.plot(kind='box', vert=False)\n",
    "\n",
    "# We can see below - Features have very Varied Means and Variances - data set needs std and scaling "
   ]
  },
  {
   "cell_type": "code",
   "execution_count": 42,
   "metadata": {
    "collapsed": false
   },
   "outputs": [
    {
     "name": "stdout",
     "output_type": "stream",
     "text": [
      "Number of mislabeled points out of a total 2058 points : 448\n"
     ]
    }
   ],
   "source": [
    "# Source --  http://scikit-learn.org/stable/modules/naive_bayes.html#bernoulli-naive-bayes\n",
    "# Gaussian Naive bayes -GaussianNB as 1st Classifier without any Feature Scaling \n",
    "\n",
    "from sklearn.naive_bayes import GaussianNB\n",
    "gnb = GaussianNB()\n",
    "y_pred = gnb.fit(X_train, y_train).predict(X_train)\n",
    "print(\"Number of mislabeled points out of a total %d points : %d\" % (X_train.shape[0],(y_train != y_pred).sum()))\n",
    "\n",
    "\n"
   ]
  },
  {
   "cell_type": "markdown",
   "metadata": {},
   "source": [
    "Cells below with Scaler and STD Scaler data - those are not Best options as regards ACCURACY scores - but we can not classify with Non Scaled Data as the Categorical Features we have are all having Diff Scales. Thus with this data set Naive Bayes is not a Good Choice of Classifier . \n",
    "\n",
    "#### random_state=124 --- Number of mislabeled points out of a total 2058 points : 448\n",
    "\n",
    "#### Instantiated - Multinomial Naive Bayes - but didnt Fit or Predict as MNB cant be used with Negative Values of X_train it throws an error with scaled data. Error as seen below :-  \n",
    "\n",
    "/home/dhankar/anaconda2/lib/python2.7/site-packages/sklearn/naive_bayes.pyc in _count(self, X, Y)\n",
    "    688         \"\"\"Count and smooth feature occurrences.\"\"\"\n",
    "    689         if np.any((X.data if issparse(X) else X) < 0):\n",
    "--> 690             raise ValueError(\"Input X must be non-negative\")\n",
    "    691         self.feature_count_ += safe_sparse_dot(Y.T, X)\n",
    "    692         self.class_count_ += Y.sum(axis=0)\n",
    "\n",
    "ValueError: Input X must be non-negative\n",
    "\n",
    "\n",
    "### Source - http://stackoverflow.com/questions/34725726/is-it-possible-apply-pca-on-any-text-classification\n",
    "### Source - http://stackoverflow.com/questions/16123572/k-fold-cross-validation-for-naive-bayes-classifier"
   ]
  },
  {
   "cell_type": "code",
   "execution_count": 10,
   "metadata": {
    "collapsed": false
   },
   "outputs": [
    {
     "name": "stdout",
     "output_type": "stream",
     "text": [
      "CPU times: user 4 ms, sys: 0 ns, total: 4 ms\n",
      "Wall time: 3.66 ms\n"
     ]
    },
    {
     "data": {
      "text/plain": [
       "MultinomialNB(alpha=1.0, class_prior=None, fit_prior=True)"
      ]
     },
     "execution_count": 10,
     "metadata": {},
     "output_type": "execute_result"
    }
   ],
   "source": [
    "from sklearn.naive_bayes import MultinomialNB\n",
    "nb = MultinomialNB()\n",
    "\n",
    "# Train using X_train_scaled\n",
    "%time nb.fit(X_train, y_train)\n"
   ]
  },
  {
   "cell_type": "markdown",
   "metadata": {
    "collapsed": true
   },
   "source": [
    "### How is STANDARD SCALER different from SCALER ??\n",
    "\n",
    "  On the STANDARD SCALER  official documentation page - Scaler is mentioned as - \"Equivalent function without the  object oriented API.\" But as seen in this notebook - data pre-processed with STANDARD SCALER provides a higher Accuracy Score upon model evaluation. \n",
    "\n",
    "- Other Scalers given - required / not required ?? MIN MAX SCaler Not required. \n",
    "- Docs for Scaler state dont Scale the Target Feature - BUT - MLP - Neural Net requires this ?? \n",
    "\n",
    "     Cells below - 1st RUN - Scale X_train ,X_test , y_train and y_test. \n",
    "     2nd RUN - STANDARD SCALER X_train ,X_test , y_train and y_test. \n",
    "\n"
   ]
  },
  {
   "cell_type": "code",
   "execution_count": 13,
   "metadata": {
    "collapsed": false
   },
   "outputs": [
    {
     "name": "stdout",
     "output_type": "stream",
     "text": [
      "(2058, 30)\n",
      "<type 'numpy.ndarray'>\n",
      "_________________________________\n",
      "(2058,)\n",
      "<type 'numpy.ndarray'>\n",
      "_________________________________\n",
      "_________________________________\n",
      "[ -1.75866232e-16  -5.04185830e-16   7.84384975e-17  -1.62595345e-16\n",
      "   1.58603289e-16  -4.01484806e-16   1.74517565e-17  -4.39126114e-17\n",
      "  -4.68850744e-16   3.08898787e-16   1.47274483e-17   1.98955419e-16\n",
      "   1.04440805e-16  -2.70057165e-16   1.37078557e-16   4.66099462e-17\n",
      "   1.12074263e-16   9.17093849e-17  -4.53152255e-18   5.08285779e-16\n",
      "  -2.41573309e-16   8.37252738e-17   2.53846183e-16   6.74333713e-18\n",
      "  -8.48851278e-17   1.14075686e-15  -2.89424030e-17  -8.13516191e-17\n",
      "  -1.19222200e-16  -4.53691722e-17]\n",
      "_________________________________\n",
      "[ 1.  1.  1.  1.  1.  1.  1.  1.  1.  1.  1.  1.  1.  1.  1.  1.  1.  1.\n",
      "  1.  1.  1.  1.  1.  1.  1.  1.  1.  1.  1.  1.]\n",
      "_________________X-train-scaled___________________________________________________________________\n",
      "Feature == 0 -- Mean after Rescaling = -0.00000000\n",
      "Feature == 0 -- Variance after Rescaling = 1.00000000\n",
      "Feature == 1 -- Mean after Rescaling = 0.00000000\n",
      "Feature == 1 -- Variance after Rescaling = 1.00000000\n",
      "Feature == 2 -- Mean after Rescaling = 0.00000000\n",
      "Feature == 3 -- Mean after Rescaling = 0.00000000\n",
      "Feature == 4 -- Mean after Rescaling = 0.00000000\n",
      "Feature == 5 -- Mean after Rescaling = -0.00000000\n",
      "Feature == 6 -- Mean after Rescaling = -0.00000000\n",
      "Feature == 7 -- Mean after Rescaling = -0.00000000\n",
      "Feature == 8 -- Mean after Rescaling = -0.00000000\n",
      "_________________y-train-scaled______________________________________________________________\n",
      "Feature == 0 -- Mean after Rescaling = -0.00000000\n",
      "Feature == 0 -- Variance after Rescaling = 1.00000000\n",
      "_____________________________________________________________________________________________\n",
      "(882, 30)\n",
      "_________________________________\n",
      "(882,)\n",
      "_________________________________\n",
      "_________________________________\n",
      "[  1.28581952e-16   2.44702218e-16   7.65323808e-17  -6.31895644e-17\n",
      "   3.66298073e-17  -1.68673339e-16   1.65400573e-16  -5.43782706e-17\n",
      "  -2.39163690e-17   5.31195143e-17  -1.12281059e-16  -4.12872055e-17\n",
      "   1.62379558e-17  -7.42666196e-17  -1.37707935e-16  -3.87696929e-17\n",
      "   9.89382423e-17  -2.48730238e-16  -1.38463189e-17  -1.89820445e-16\n",
      "   4.66998574e-17  -1.14043317e-16   1.67918086e-16   1.30910651e-17\n",
      "  -2.65597572e-16   4.58187280e-17   1.25875626e-17   4.90914943e-17\n",
      "  -6.47000720e-17  -6.84763407e-17]\n",
      "_________________________________\n",
      "[ 1.  1.  1.  1.  1.  1.  1.  1.  1.  1.  1.  1.  1.  1.  1.  1.  1.  1.\n",
      "  1.  1.  1.  1.  1.  1.  1.  1.  1.  1.  1.  1.]\n",
      "________________X-Test-Scaled_______________________________________________________________\n",
      "Feature == 0 -- Mean after Rescaling = 0.00000000\n",
      "Feature == 0 -- Variance after Rescaling = 1.00000000\n",
      "Feature == 1 -- Mean after Rescaling = -0.00000000\n",
      "Feature == 1 -- Variance after Rescaling = 1.00000000\n",
      "Feature == 2 -- Mean after Rescaling = 0.00000000\n",
      "Feature == 3 -- Mean after Rescaling = -0.00000000\n",
      "Feature == 4 -- Mean after Rescaling = 0.00000000\n",
      "Feature == 5 -- Mean after Rescaling = -0.00000000\n",
      "________________y-Test-Scaled_______________________________________________________________\n",
      "Feature == 0 -- Mean after Rescaling = 0.00000000\n",
      "Feature == 0 -- Variance after Rescaling = 1.00000000\n"
     ]
    }
   ],
   "source": [
    "from sklearn import preprocessing\n",
    "from sklearn.preprocessing import scale\n",
    "#\n",
    "X_train_scaled = preprocessing.scale(X_train)\n",
    "print X_train_scaled.shape \n",
    "print type(X_train_scaled)\n",
    "print \"_________________________________\"\n",
    "y_train_scaled = preprocessing.scale(y_train)\n",
    "print y_train_scaled.shape \n",
    "print type(y_train_scaled)\n",
    "print \"_________________________________\"\n",
    "\n",
    "#print X_train_scaled # Ok Not required \n",
    "print \"_________________________________\"\n",
    "print X_train_scaled.mean(axis=0) # Means Exponential e-16 or e-17, Why not ZERO's ? format the Floating Points \n",
    "print \"_________________________________\"\n",
    "print X_train_scaled.std(axis=0)\n",
    "print \"_________________X-train-scaled___________________________________________________________________\"\n",
    "print('Feature == 0 -- Mean after Rescaling = {:.8f}'.format(X_train_scaled[:,0].mean()))\n",
    "print('Feature == 0 -- Variance after Rescaling = {:.8f}'.format(X_train_scaled[:,0].std()))\n",
    "print('Feature == 1 -- Mean after Rescaling = {:.8f}'.format(X_train_scaled[:,1].mean()))\n",
    "print('Feature == 1 -- Variance after Rescaling = {:.8f}'.format(X_train_scaled[:,1].std()))\n",
    "print('Feature == 2 -- Mean after Rescaling = {:.8f}'.format(X_train_scaled[:,2].mean()))\n",
    "print('Feature == 3 -- Mean after Rescaling = {:.8f}'.format(X_train_scaled[:,3].mean()))\n",
    "print('Feature == 4 -- Mean after Rescaling = {:.8f}'.format(X_train_scaled[:,4].mean()))\n",
    "print('Feature == 5 -- Mean after Rescaling = {:.8f}'.format(X_train_scaled[:,5].mean()))\n",
    "print('Feature == 6 -- Mean after Rescaling = {:.8f}'.format(X_train_scaled[:,6].mean()))\n",
    "print('Feature == 7 -- Mean after Rescaling = {:.8f}'.format(X_train_scaled[:,7].mean()))\n",
    "print('Feature == 8 -- Mean after Rescaling = {:.8f}'.format(X_train_scaled[:,8].mean()))\n",
    "#\n",
    "print \"_________________y-train-scaled______________________________________________________________\"\n",
    "print('Feature == 0 -- Mean after Rescaling = {:.8f}'.format(y_train_scaled.mean()))\n",
    "print('Feature == 0 -- Variance after Rescaling = {:.8f}'.format(y_train_scaled.std()))\n",
    "\n",
    "#\n",
    "print \"_____________________________________________________________________________________________\"\n",
    "#\n",
    "X_test_scaled = preprocessing.scale(X_test)\n",
    "print X_test_scaled.shape \n",
    "#print type(X_test_scaled)\n",
    "print \"_________________________________\"\n",
    "y_test_scaled = preprocessing.scale(y_test)\n",
    "print y_test_scaled.shape \n",
    "#print type(y_test_scaled)\n",
    "print \"_________________________________\"\n",
    "\n",
    "#print X_test_scaled # Ok Not required \n",
    "print \"_________________________________\"\n",
    "print X_test_scaled.mean(axis=0) # \n",
    "print \"_________________________________\"\n",
    "print X_test_scaled.std(axis=0)\n",
    "print \"________________X-Test-Scaled_______________________________________________________________\"\n",
    "print('Feature == 0 -- Mean after Rescaling = {:.8f}'.format(X_test_scaled[:,0].mean()))\n",
    "print('Feature == 0 -- Variance after Rescaling = {:.8f}'.format(X_test_scaled[:,0].std()))\n",
    "print('Feature == 1 -- Mean after Rescaling = {:.8f}'.format(X_test_scaled[:,1].mean()))\n",
    "print('Feature == 1 -- Variance after Rescaling = {:.8f}'.format(X_test_scaled[:,1].std()))\n",
    "print('Feature == 2 -- Mean after Rescaling = {:.8f}'.format(X_test_scaled[:,2].mean()))\n",
    "print('Feature == 3 -- Mean after Rescaling = {:.8f}'.format(X_test_scaled[:,3].mean()))\n",
    "print('Feature == 4 -- Mean after Rescaling = {:.8f}'.format(X_test_scaled[:,4].mean()))\n",
    "print('Feature == 5 -- Mean after Rescaling = {:.8f}'.format(X_test_scaled[:,5].mean()))\n",
    "print \"________________y-Test-Scaled_______________________________________________________________\"\n",
    "print('Feature == 0 -- Mean after Rescaling = {:.8f}'.format(y_test_scaled.mean()))\n",
    "print('Feature == 0 -- Variance after Rescaling = {:.8f}'.format(y_test_scaled.std()))\n",
    "\n",
    "\n",
    "# Need to check - why -0.0000 values for Mean on Rescaling and do these impact the Predictions ? "
   ]
  },
  {
   "cell_type": "code",
   "execution_count": 14,
   "metadata": {
    "collapsed": false
   },
   "outputs": [
    {
     "name": "stdout",
     "output_type": "stream",
     "text": [
      "(2058, 30)\n",
      "<type 'numpy.ndarray'>\n",
      "_________________________________\n",
      "_________________________________\n",
      "[ -1.75866232e-16  -5.04185830e-16   7.84384975e-17  -1.62595345e-16\n",
      "   1.58603289e-16  -4.01484806e-16   1.74517565e-17  -4.39126114e-17\n",
      "  -4.68850744e-16   3.08898787e-16   1.47274483e-17   1.98955419e-16\n",
      "   1.04440805e-16  -2.70057165e-16   1.37078557e-16   4.66099462e-17\n",
      "   1.12074263e-16   9.17093849e-17  -4.53152255e-18   5.08285779e-16\n",
      "  -2.41573309e-16   8.37252738e-17   2.53846183e-16   6.74333713e-18\n",
      "  -8.48851278e-17   1.14075686e-15  -2.89424030e-17  -8.13516191e-17\n",
      "  -1.19222200e-16  -4.53691722e-17]\n",
      "_________________________________\n",
      "[ 1.  1.  1.  1.  1.  1.  1.  1.  1.  1.  1.  1.  1.  1.  1.  1.  1.  1.\n",
      "  1.  1.  1.  1.  1.  1.  1.  1.  1.  1.  1.  1.]\n",
      "________________X-Train-sc_______________________________________________________________\n",
      "Feature == 0 -- Mean after Rescaling = -0.0000\n",
      "Feature == 0 -- Variance after Rescaling = 1.0000\n",
      "Feature == 1 -- Mean after Rescaling = 0.0000\n",
      "Feature == 1 -- Variance after Rescaling = 1.0000\n",
      "Feature == 2 -- Mean after Rescaling = 0.00000000\n",
      "Feature == 3 -- Mean after Rescaling = 0.00000000\n",
      "Feature == 4 -- Mean after Rescaling = 0.00000000\n",
      "Feature == 5 -- Mean after Rescaling = -0.00000000\n",
      "________________y-Train-sc_______________________________________________________________\n",
      "Feature == 0 -- Mean after Rescaling = -0.0000\n",
      "Feature == 0 -- Variance after Rescaling = 1.0000\n",
      "(882, 30)\n",
      "<type 'numpy.ndarray'>\n",
      "_________________________________\n",
      "_________________________________\n",
      "[ 0.08655713 -0.03198596  0.00393981 -0.0685019   0.00083951  0.03910209\n",
      " -0.02956843  0.06975163 -0.00066126  0.05661398  0.02775396  0.05459297\n",
      " -0.06355204  0.04030501 -0.02277983  0.0290173   0.01484171  0.01203268\n",
      "  0.04123918 -0.02460214 -0.04258604 -0.01531961 -0.04181928  0.04501373\n",
      " -0.06919251 -0.03543211 -0.05236786 -0.10915559 -0.06570907 -0.06450701]\n",
      "_________________________________\n",
      "[ 1.01674781  0.98364244  0.94743037  0.96657263  1.00035726  0.98820459\n",
      "  1.00997212  0.97393772  1.00013489  1.00048579  0.99662855  1.06121256\n",
      "  0.97658796  1.00359247  1.0209486   1.06129954  1.00632403  0.99120064\n",
      "  1.01945791  0.98617235  0.95838545  1.00739746  0.96785717  1.01110222\n",
      "  1.06234241  1.01022979  0.96214005  0.93924063  0.94943289  0.98580871]\n",
      "_____________X-Test-sc__________________________________________________________________\n",
      "Feature == 0 -- Mean after Rescaling = 0.0866\n",
      "Feature == 0 -- Variance after Rescaling = 1.0167\n",
      "Feature == 1 -- Mean after Rescaling = -0.0320\n",
      "Feature == 1 -- Variance after Rescaling = 0.9836\n",
      "Feature == 2 -- Mean after Rescaling = 0.00393981\n",
      "Feature == 3 -- Mean after Rescaling = -0.06850190\n",
      "Feature == 4 -- Mean after Rescaling = 0.00083951\n",
      "Feature == 5 -- Mean after Rescaling = 0.03910209\n",
      "____________y-Test-sc___________________________________________________________________\n",
      "Feature == 0 -- Mean after Rescaling = -0.0009\n",
      "Feature == 0 -- Variance after Rescaling = 0.9992\n"
     ]
    },
    {
     "name": "stderr",
     "output_type": "stream",
     "text": [
      "/home/dhankar/anaconda2/lib/python2.7/site-packages/sklearn/preprocessing/data.py:586: DeprecationWarning: Passing 1d arrays as data is deprecated in 0.17 and will raise ValueError in 0.19. Reshape your data either using X.reshape(-1, 1) if your data has a single feature or X.reshape(1, -1) if it contains a single sample.\n",
      "  warnings.warn(DEPRECATION_MSG_1D, DeprecationWarning)\n",
      "/home/dhankar/anaconda2/lib/python2.7/site-packages/sklearn/preprocessing/data.py:649: DeprecationWarning: Passing 1d arrays as data is deprecated in 0.17 and will raise ValueError in 0.19. Reshape your data either using X.reshape(-1, 1) if your data has a single feature or X.reshape(1, -1) if it contains a single sample.\n",
      "  warnings.warn(DEPRECATION_MSG_1D, DeprecationWarning)\n",
      "/home/dhankar/anaconda2/lib/python2.7/site-packages/sklearn/preprocessing/data.py:649: DeprecationWarning: Passing 1d arrays as data is deprecated in 0.17 and will raise ValueError in 0.19. Reshape your data either using X.reshape(-1, 1) if your data has a single feature or X.reshape(1, -1) if it contains a single sample.\n",
      "  warnings.warn(DEPRECATION_MSG_1D, DeprecationWarning)\n"
     ]
    }
   ],
   "source": [
    "# Standardizing and Rescaling - \n",
    "\n",
    "from sklearn.preprocessing import StandardScaler\n",
    "\n",
    "sc = StandardScaler()\n",
    "sc.fit(X_train)\n",
    "\n",
    "sc1 = StandardScaler()\n",
    "sc1.fit(y_train)\n",
    "\n",
    "#sc = preprocessing.StandardScaler().fit(X_train) # single line option chained code \n",
    "\n",
    "X_train_sc = sc.transform(X_train)\n",
    "X_test_sc = sc.transform(X_test) #@Important Note --- Why not do a sc.fit(X_test) ? \n",
    "y_train_sc1 = sc1.transform(y_train)\n",
    "y_test_sc1 = sc1.transform(y_test) \n",
    "\n",
    "# The means and STD values for X_test arent same as above with SCALER ? \n",
    "\n",
    "print X_train_sc.shape \n",
    "print type(X_train_sc)\n",
    "print \"_________________________________\"\n",
    "#print X_test_scaled # Ok Not required \n",
    "print \"_________________________________\"\n",
    "print X_train_sc.mean(axis=0) # \n",
    "print \"_________________________________\"\n",
    "print X_train_sc.std(axis=0)\n",
    "print \"________________X-Train-sc_______________________________________________________________\"\n",
    "print('Feature == 0 -- Mean after Rescaling = {:.4f}'.format(X_train_sc[:,0].mean()))\n",
    "print('Feature == 0 -- Variance after Rescaling = {:.4f}'.format(X_train_sc[:,0].std()))\n",
    "print('Feature == 1 -- Mean after Rescaling = {:.4f}'.format(X_train_sc[:,1].mean()))\n",
    "print('Feature == 1 -- Variance after Rescaling = {:.4f}'.format(X_train_sc[:,1].std()))\n",
    "print('Feature == 2 -- Mean after Rescaling = {:.8f}'.format(X_train_sc[:,2].mean()))\n",
    "print('Feature == 3 -- Mean after Rescaling = {:.8f}'.format(X_train_sc[:,3].mean()))\n",
    "print('Feature == 4 -- Mean after Rescaling = {:.8f}'.format(X_train_sc[:,4].mean()))\n",
    "print('Feature == 5 -- Mean after Rescaling = {:.8f}'.format(X_train_sc[:,5].mean()))\n",
    "print \"________________y-Train-sc_______________________________________________________________\"\n",
    "print('Feature == 0 -- Mean after Rescaling = {:.4f}'.format(y_train_sc1.mean()))\n",
    "print('Feature == 0 -- Variance after Rescaling = {:.4f}'.format(y_train_sc1.std()))\n",
    "\n",
    "print X_test_sc.shape \n",
    "print type(X_test_sc)\n",
    "print \"_________________________________\"\n",
    "#print X_test_scaled # Ok Not required \n",
    "print \"_________________________________\"\n",
    "print X_test_sc.mean(axis=0) # \n",
    "print \"_________________________________\"\n",
    "print X_test_sc.std(axis=0)\n",
    "print \"_____________X-Test-sc__________________________________________________________________\"\n",
    "print('Feature == 0 -- Mean after Rescaling = {:.4f}'.format(X_test_sc[:,0].mean()))\n",
    "print('Feature == 0 -- Variance after Rescaling = {:.4f}'.format(X_test_sc[:,0].std()))\n",
    "print('Feature == 1 -- Mean after Rescaling = {:.4f}'.format(X_test_sc[:,1].mean()))\n",
    "print('Feature == 1 -- Variance after Rescaling = {:.4f}'.format(X_test_sc[:,1].std()))\n",
    "print('Feature == 2 -- Mean after Rescaling = {:.8f}'.format(X_test_sc[:,2].mean()))\n",
    "print('Feature == 3 -- Mean after Rescaling = {:.8f}'.format(X_test_sc[:,3].mean()))\n",
    "print('Feature == 4 -- Mean after Rescaling = {:.8f}'.format(X_test_sc[:,4].mean()))\n",
    "print('Feature == 5 -- Mean after Rescaling = {:.8f}'.format(X_test_sc[:,5].mean()))\n",
    "print \"____________y-Test-sc___________________________________________________________________\"\n",
    "print('Feature == 0 -- Mean after Rescaling = {:.4f}'.format(y_test_sc1.mean()))\n",
    "print('Feature == 0 -- Variance after Rescaling = {:.4f}'.format(y_test_sc1.std()))\n"
   ]
  },
  {
   "cell_type": "code",
   "execution_count": 15,
   "metadata": {
    "collapsed": false
   },
   "outputs": [
    {
     "data": {
      "text/plain": [
       "MLPClassifier(activation='relu', alpha=0.0001, batch_size='auto', beta_1=0.9,\n",
       "       beta_2=0.999, early_stopping=False, epsilon=1e-08,\n",
       "       hidden_layer_sizes=(100,), learning_rate='constant',\n",
       "       learning_rate_init=0.001, max_iter=200, momentum=0.9,\n",
       "       nesterovs_momentum=True, power_t=0.5, random_state=2, shuffle=True,\n",
       "       solver='adam', tol=0.0001, validation_fraction=0.1, verbose=False,\n",
       "       warm_start=False)"
      ]
     },
     "execution_count": 15,
     "metadata": {},
     "output_type": "execute_result"
    }
   ],
   "source": [
    "\n",
    "from sklearn.neural_network import MLPClassifier\n",
    "from sklearn.model_selection import cross_val_score\n",
    "\n",
    "#clf = MLPClassifier(solver='lbfgs', alpha=1e-5,hidden_layer_sizes=(5, 2), random_state=1)\n",
    "#clf = MLPClassifier(solver='adam', alpha=1e-5,hidden_layer_sizes=(5, 2), random_state=1)\n",
    "#clf.fit(X_train_sc, y_test_sc1)                         \n",
    "\n",
    "MLPC = MLPClassifier(random_state=2)\n",
    "\n",
    "MLPC.fit(X_train,y_train)\n",
    "\n"
   ]
  },
  {
   "cell_type": "markdown",
   "metadata": {},
   "source": [
    "### Neural Network - Multi-layer Perceptron (MLP)\n",
    "#### The disadvantages of Multi-layer Perceptron (MLP) include:\n",
    " - MLP with hidden layers have a non-convex loss function where there exists more than one local minimum. Therefore different random weight initializations can lead to different validation accuracy.\n",
    " - MLP requires tuning a number of hyperparameters such as the number of hidden neurons, layers,and iterations. \n",
    " - MLP is sensitive to feature scaling.\n",
    "\n",
    "\n",
    "Scaling Data - Train and Test sets both for MLP - Multi-layer Perceptron is sensitive to feature scaling, \n",
    "so it is highly recommended to scale your data. For example, scale each attribute on the input \n",
    "vector X to [0, 1] or [-1, +1], or standardize it to have mean 0 and variance 1. Note that you must apply\n",
    "the same scaling to the test set for meaningful results. You can use StandardScaler for standardization.\n"
   ]
  },
  {
   "cell_type": "code",
   "execution_count": 16,
   "metadata": {
    "collapsed": false
   },
   "outputs": [
    {
     "name": "stdout",
     "output_type": "stream",
     "text": [
      "Accuracy: 0.84 (+/- 0.00)\n"
     ]
    }
   ],
   "source": [
    "scores = cross_val_score(MLPC,X_test,y_test,cv=5,scoring='accuracy')\n",
    "\n",
    "\n",
    "\n",
    "print(\"Accuracy: %0.2f (+/- %0.2f)\" % (scores.mean(), scores.std() * 2))\n"
   ]
  },
  {
   "cell_type": "code",
   "execution_count": 17,
   "metadata": {
    "collapsed": false
   },
   "outputs": [
    {
     "name": "stdout",
     "output_type": "stream",
     "text": [
      "Number of mislabeled points out of a total 2058 points : 448\n"
     ]
    },
    {
     "data": {
      "text/plain": [
       "'\\nRAW DATA -- Number of mislabeled points out of a total 2058 points : 399\\n\\nSTD SCALER --- Number of mislabeled points out of a total 2058 points : 412\\n\\nSCALER --- Number of mislabeled points out of a total 2058 points : 412\\n\\n'"
      ]
     },
     "execution_count": 17,
     "metadata": {},
     "output_type": "execute_result"
    }
   ],
   "source": [
    "# Gaussian Naive bayes -GaussianNB as 1st Classifier without any Feature Scaling \n",
    "\n",
    "from sklearn.naive_bayes import GaussianNB\n",
    "gnb = GaussianNB()\n",
    "y_pred = gnb.fit(X_train, y_train).predict(X_train)\n",
    "print(\"Number of mislabeled points out of a total %d points : %d\" % (X_train.shape[0],(y_train != y_pred).sum()))\n",
    "\n"
   ]
  },
  {
   "cell_type": "markdown",
   "metadata": {},
   "source": [
    "#### Source --  http://scikit-learn.org/stable/modules/naive_bayes.html#bernoulli-naive-bayes\n",
    "\n",
    "RAW DATA -- Number of mislabeled points out of a total 2058 points : 399\n",
    "\n",
    "STD SCALER --- Number of mislabeled points out of a total 2058 points : 412\n",
    "\n",
    "SCALER --- Number of mislabeled points out of a total 2058 points : 412\n",
    "\n",
    "Instantiate - Multinomial Naive Bayes - Error thrown by MNB is as seen above \n",
    "\n",
    "Basis these Questions -- http://stats.stackexchange.com/questions/169400/naive-bayes-questions-continus-data-negative-data-and-multinomialnb-in-scikit\n",
    "http://stackoverflow.com/questions/34725726/is-it-possible-apply-pca-on-any-text-classification\n",
    "\n",
    "We use only GaussianNB and not MultinomialNB with Scaler and STD Scaler Data.  \n"
   ]
  },
  {
   "cell_type": "code",
   "execution_count": 18,
   "metadata": {
    "collapsed": false
   },
   "outputs": [
    {
     "name": "stdout",
     "output_type": "stream",
     "text": [
      "CPU times: user 0 ns, sys: 4 ms, total: 4 ms\n",
      "Wall time: 2.73 ms\n"
     ]
    },
    {
     "data": {
      "text/plain": [
       "MultinomialNB(alpha=1.0, class_prior=None, fit_prior=True)"
      ]
     },
     "execution_count": 18,
     "metadata": {},
     "output_type": "execute_result"
    }
   ],
   "source": [
    "from sklearn.naive_bayes import MultinomialNB\n",
    "nb = MultinomialNB()\n",
    "%time nb.fit(X_train, y_train) # Just a print of the Fit this is Not used as we cant use Raw Unscaled Data"
   ]
  },
  {
   "cell_type": "code",
   "execution_count": 19,
   "metadata": {
    "collapsed": false
   },
   "outputs": [
    {
     "data": {
      "text/plain": [
       "KNeighborsClassifier(algorithm='auto', leaf_size=30, metric='minkowski',\n",
       "           metric_params=None, n_jobs=1, n_neighbors=1, p=2,\n",
       "           weights='uniform')"
      ]
     },
     "execution_count": 19,
     "metadata": {},
     "output_type": "execute_result"
    }
   ],
   "source": [
    "# 1st RUN - KNN - with X_train_scaled and y_train \n",
    "# 2nd RUN - KNN - with X_train_sc and y_train \n",
    "#\n",
    "\n",
    "from sklearn.neighbors import KNeighborsClassifier\n",
    "\n",
    "# Instantiate kNN model with 1 Neighbour \n",
    "knn = KNeighborsClassifier(n_neighbors=1)\n",
    "\n",
    "# Fit kNN model with Train data (occurs in-place)\n",
    "#knn.fit(X_train_scaled, y_train)\n",
    "knn.fit(X_train_sc, y_train)"
   ]
  },
  {
   "cell_type": "code",
   "execution_count": 20,
   "metadata": {
    "collapsed": false
   },
   "outputs": [
    {
     "data": {
      "text/plain": [
       "(882,)"
      ]
     },
     "execution_count": 20,
     "metadata": {},
     "output_type": "execute_result"
    }
   ],
   "source": [
    "# 1st RUN - predict kNN Class with with X_test_scaled\n",
    "# 2nd RUN - predict kNN Class with with X_test_sc\n",
    "\n",
    "#y_pred_class_kNN = knn.predict(X_test_scaled)\n",
    "y_pred_class_kNN = knn.predict(X_test_sc)\n",
    "\n",
    "y_pred_class_kNN.shape"
   ]
  },
  {
   "cell_type": "code",
   "execution_count": 21,
   "metadata": {
    "collapsed": false
   },
   "outputs": [
    {
     "name": "stdout",
     "output_type": "stream",
     "text": [
      "<type 'numpy.ndarray'>\n",
      "882\n",
      "__________________________________________\n",
      "882\n",
      "Logistic Reg Model predicted classes: [0 1 0 0 1 0 0 0 0 0 0 0 0 0 0 0 0 0 0 0 0 0 0 0 1 0 0 0 1 0 0 0 0 0 0 0 0\n",
      " 0 0 0 0 0 1 0 1 1 0 0 0 0 0 0 0 0 0 0 0 0 1 0 0 1 0 0 0 0 0 0 0 0 0 0 0 0\n",
      " 0 0 0 1 0 0 0 0 0 0 0 0 0 0 0 0 0 0 0 0 1 0 0 0 0 0 0 0 0 1 0 0 0 0 1 0 0\n",
      " 0 1 0 0 0 0 0 0 0 0 0 1 0 0 0 0 1 0 0 0 0 0 0 0 1 0 0 1 0 0 0 0 0 0 1 0 0\n",
      " 0 0 0 0 1 0 0 0 0 1 1 0 1 0 0 0 1 0 0 0 1 0 1 0 0 0 0 0 0 1 0 0 0 0 0 0 1\n",
      " 0 0 0 0 0 0 1 0 0 0 0 0 0 1 0 0 0 0 0 0 0 0 0 0 0 0 0 0 0 1 0 0 0 0 1 0 0\n",
      " 0 1 0 0 0 0 0 0 0 1 1 0 0 0 0 0 0 1 0 0 0 0 0 0 0 0 0 0 0 0 0 0 0 0 0 0 0\n",
      " 0 0 0 0 0 1 0 0 0 0 0 0 0 0 0 0 0 0 1 1 0 0 0 1 1 0 0 0 0 1 0 0 0 0 0 0 0\n",
      " 1 1 0 0 0 0 0 0 0 0 0 0 0 0 0 0 0 0 1 1 0 0 0 1 0 0 0 0 0 1 0 0 0 1 0 1 0\n",
      " 0 0 0 0 0 0 0 0 1 0 0 0 0 0 0 0 0 0 0 0 0 0 0 0 0 0 0 0 0 0 0 0 0 0 0 0 0\n",
      " 0 0 0 0 1 1 0 0 0 0 0 0 0 0 0 0 0 0 0 1 0 0 0 0 1 1 1 0 0 0 0 0 0 0 0 0 0\n",
      " 1 0 0 0 0 0 1 0 0 0 0 0 0 0 0 0 0 0 0 0 1 0 1 1 1 0 1 1 0 1 0 0 0 1 0 0 0\n",
      " 0 1 0 0 1 0 0 0 0 1 1 0 0 1 0 0 0 0 0 1 0 0 1 1 1 0 0 0 0 0 0 0 0 0 1 1 0\n",
      " 0 1 0 0 0 0 1 1 0 0 0 0 0 0 1 0 0 0 0 1 0 0 0 0 0 0 1 0 0 0 0 0 0 0 0 0 0\n",
      " 1 0 0 0 0 0 0 0 0 1 0 0 0 0 0 0 0 0 0 0 0 0 0 1 0 0 0 0 0 1 0 0 0 0 0 1 0\n",
      " 1 1 0 0 0 0 0 1 0 0 0 0 0 0 1 0 1 0 0 0 1 1 0 0 0 0 0 0 0 0 0 0 0 0 0 1 0\n",
      " 0 0 0 0 0 0 0 0 0 0 1 0 0 0 0 0 0 0 0 0 0 0 0 0 0 0 0 0 0 0 0 1 0 0 0 1 1\n",
      " 0 0 0 0 0 0 0 0 0 1 0 0 0 0 0 0 0 1 0 0 0 0 0 0 0 1 0 0 0 0 0 0 0 0 0 0 0\n",
      " 0 0 0 1 0 0 0 0 0 0 0 0 1 1 1 0 0 0 1 0 0 1 0 0 0 0 0 0 0 0 0 0 0 1 0 0 0\n",
      " 0 0 0 0 0 0 0 0 1 0 0 0 0 0 0 0 0 0 0 1 0 1 0 0 0 0 0 0 0 0 0 1 0 0 0 0 1\n",
      " 0 0 0 0 0 0 1 0 0 0 0 1 0 0 0 0 0 0 0 0 0 0 1 0 0 0 0 0 1 0 0 1 0 0 0 0 0\n",
      " 0 0 1 0 0 0 0 0 0 0 0 0 0 0 0 0 0 0 0 0 0 1 0 0 0 1 0 0 0 0 0 0 0 0 1 0 0\n",
      " 1 1 0 0 0 0 0 0 0 1 0 1 0 0 0 0 0 0 0 0 0 0 0 0 0 0 0 1 0 0 0 0 1 0 0 0 0\n",
      " 0 0 0 1 1 0 0 0 0 1 0 0 0 0 0 0 0 0 1 1 0 0 0 0 0 0 0 0 0 0 0]\n",
      "Actual data - Real classes: [0 1 0 0 0 0 0 0 0 0 0 0 0 0 1 0 0 0 0 1 0 1 0 0 1 0 0 0 1 0 0 0 0 0 0 0 0\n",
      " 0 0 0 1 0 1 0 1 1 0 0 0 0 0 0 0 0 0 0 0 0 1 0 0 1 0 0 0 0 0 0 0 0 0 0 0 0\n",
      " 0 0 0 1 0 0 0 0 0 0 0 0 0 0 0 0 0 0 0 0 1 0 0 0 0 1 0 0 1 0 0 0 0 0 1 1 0\n",
      " 0 1 0 0 0 0 1 0 0 0 0 0 0 0 0 0 1 0 0 0 0 0 0 0 0 0 0 1 0 0 0 0 0 0 1 0 0\n",
      " 0 0 0 0 1 0 0 0 0 1 1 0 1 0 0 0 0 0 0 0 1 0 0 0 0 0 0 0 0 1 0 0 0 0 0 0 1\n",
      " 0 0 0 1 0 0 1 0 0 0 0 0 0 1 0 0 0 0 0 0 0 0 0 0 0 0 0 0 0 1 0 0 0 0 0 0 0\n",
      " 0 1 0 0 0 1 0 0 0 1 1 0 0 0 0 0 0 1 0 0 0 0 0 0 0 0 0 0 0 0 0 0 0 0 0 1 0\n",
      " 0 1 0 0 0 1 0 0 0 0 0 0 0 0 0 0 0 0 1 1 0 0 0 1 1 0 0 0 0 1 0 0 0 0 0 0 0\n",
      " 1 1 0 0 0 0 0 0 0 0 0 0 0 0 0 0 0 0 1 1 1 1 0 1 0 0 0 0 0 1 0 0 0 1 0 1 0\n",
      " 0 0 0 0 0 0 0 0 1 0 0 0 0 0 0 0 0 0 0 0 1 0 0 0 0 0 0 0 0 0 0 0 0 0 0 0 0\n",
      " 0 0 0 0 0 1 0 0 0 0 0 0 0 0 0 0 0 0 0 1 0 0 0 0 0 1 1 0 0 0 0 0 0 0 0 0 0\n",
      " 1 0 0 0 0 0 1 0 0 0 0 0 0 0 0 0 0 0 0 0 1 0 1 1 1 0 1 1 0 1 0 0 0 1 0 0 0\n",
      " 0 1 0 0 1 0 0 0 0 1 1 0 0 1 0 0 0 1 0 1 0 0 1 0 1 1 0 0 0 0 0 0 0 0 0 1 0\n",
      " 0 1 0 0 0 0 1 1 0 0 0 0 1 0 1 0 0 0 0 1 0 0 0 0 0 0 1 0 0 0 0 0 0 0 0 0 0\n",
      " 1 0 0 0 0 0 0 0 0 1 0 0 0 0 0 0 1 0 0 0 0 0 0 0 0 0 0 0 1 1 0 0 0 0 0 1 0\n",
      " 1 1 0 1 0 0 0 1 0 0 0 0 0 0 1 0 1 0 0 0 1 1 0 0 0 0 0 0 0 0 0 0 0 0 0 1 0\n",
      " 0 0 0 0 0 0 0 0 0 0 1 0 0 0 0 0 0 0 0 0 0 1 0 0 0 0 0 0 0 0 0 1 0 0 0 0 1\n",
      " 0 0 0 0 0 0 0 0 0 1 0 0 0 1 0 0 0 1 0 0 0 0 0 0 0 1 0 0 0 0 0 0 0 0 0 0 0\n",
      " 0 0 0 1 0 0 0 0 0 0 0 0 0 1 1 0 0 0 0 0 0 1 0 0 0 0 0 0 0 0 0 0 0 0 0 0 0\n",
      " 0 0 0 0 0 1 0 0 1 0 0 0 0 0 0 0 0 0 0 1 0 1 0 0 0 0 0 0 0 0 0 1 0 0 0 0 1\n",
      " 0 0 0 0 0 0 1 0 0 0 0 1 0 0 0 0 0 0 1 0 0 0 0 0 0 0 0 0 0 0 0 1 0 0 0 0 0\n",
      " 0 0 1 0 0 0 0 0 0 0 0 0 0 0 0 0 0 0 0 0 0 1 0 0 0 0 0 0 0 0 0 0 0 0 0 0 0\n",
      " 0 0 0 0 0 0 0 0 0 1 0 1 0 0 0 0 0 0 0 0 0 0 0 0 0 0 0 1 0 0 0 0 1 0 0 1 1\n",
      " 0 0 0 1 1 0 0 1 0 1 0 0 0 0 0 0 0 0 1 1 0 0 0 0 0 0 0 0 0 0 0]\n",
      "__________________________________________\n",
      "0.943310657596\n",
      "_____Model Evaluation with AUC Area Under the Curve __________________\n",
      "0.886543585839\n",
      "             precision    recall  f1-score   support\n",
      "\n",
      "          0       0.96      0.97      0.97       740\n",
      "          1       0.84      0.80      0.82       142\n",
      "\n",
      "avg / total       0.94      0.94      0.94       882\n",
      "\n"
     ]
    }
   ],
   "source": [
    "\n",
    "from sklearn import metrics\n",
    "\n",
    "print type(y_pred_class_kNN)\n",
    "print len(y_pred_class_kNN)\n",
    "print \"__________________________________________\"\n",
    "print len(y_test)\n",
    "print('Logistic Reg Model predicted classes: {}'.format(y_pred_class_kNN))\n",
    "print('Actual data - Real classes: {}'.format(y_test))\n",
    "print \"__________________________________________\"\n",
    "print metrics.accuracy_score(y_test, y_pred_class_kNN)\n",
    "print \"_____Model Evaluation with AUC Area Under the Curve __________________\"\n",
    "print metrics.roc_auc_score(y_test, y_pred_class_kNN)\n",
    "#\n",
    "print(metrics.classification_report(y_test, y_pred_class_kNN))\n"
   ]
  },
  {
   "cell_type": "markdown",
   "metadata": {},
   "source": [
    "# MODEL EVALUATION :- Accuracy Score of kNN - ROC and AUC \n",
    "\n",
    "\n",
    "Example of Receiver Operating Characteristic (ROC) metric to evaluate classifier output quality \n",
    "using cross-validation.\n",
    "\n",
    "ROC curves typically feature true positive rate on the Y axis, and false positive rate on the X axis. \n",
    "This means that the top left corner of the plot is the “ideal” point - a false positive rate of zero, \n",
    "and a true positive rate of one. This is not very realistic, but it does mean that a larger area under \n",
    "the curve (AUC) is usually better.\n",
    "\n",
    "The “steepness” of ROC curves is also important, since it is ideal to maximize the true positive rate \n",
    "while minimizing the false positive rate.\n",
    "\n",
    "### Calculated earlier = 1-dfh[\"Attrition].mean() = 83.88% \n",
    "\n",
    "#### Random_State Seed Value = 124 , for the Non PCA Data set :- \n",
    "\n",
    "Accuracy Score = 0.943310657596 = 94.33%\n",
    "AUC-Area Under the Curve Score = 0.886543585839 = 88.65%\n",
    "\n",
    "\n",
    "             precision    recall  f1-score   support\n",
    "\n",
    "          0       0.96      0.97      0.97       740\n",
    "          1       0.84      0.80      0.82       142\n",
    "    avg / total       0.94      0.94      0.94       882\n",
    "\n",
    "#### Random_State Seed Value = 123 , for the Non PCA Data set :- \n",
    "\n",
    "Accuracy Score = 0.950113378685 = 95.01%\n",
    "AUC-Area Under the Curve Score = 0.890597639893 = 89.05%\n",
    "\n",
    "             precision    recall  f1-score   support\n",
    "\n",
    "          0       0.96      0.98      0.97       740\n",
    "          1       0.88      0.80      0.84       142\n",
    "          avg / total       0.95      0.95      0.95       882\n",
    "\n",
    "#### Random_State Seed Value = 123 , for the Non PCA Data set :- \n",
    "\n",
    "Accuracy Score = 0.945578231293 = 94.55%\n",
    "AUC-Area Under the Curve Score = 0.878800355589 = 87.88%\n",
    "\n",
    "             precision    recall  f1-score   support\n",
    "\n",
    "          0       0.96      0.98      0.97       737\n",
    "          1       0.88      0.78      0.82       145\n",
    "          avg / total       0.94      0.95      0.94       882\n",
    "\n",
    "\n",
    "#### Random_State Seed Value = 123 , for the Non PCA and SCALER Data set :- \n",
    "\n",
    "Accuracy Score = 0.943310657596 = 94.33%\n",
    "AUC-Area Under the Curve Score = 0.871903803865 = 87.19%\n",
    "\n",
    "             precision    recall  f1-score   support\n",
    "\n",
    "          0       0.95      0.98      0.97       737\n",
    "          1       0.87      0.77      0.82       145\n",
    "          avg / total       0.94      0.94      0.94       882\n",
    "\n",
    "#### Random_State Seed Value = 123 , for the Non PCA and SCALER Data set :- \n",
    "\n",
    "\n",
    "Accuracy Score = 0.922902494331 = 92.29% \n",
    "AUC-Area Under the Curve Score = 0.865231834558 = 86.52%\n",
    "\n",
    "             precision    recall  f1-score   support\n",
    "\n",
    "          0       0.96      0.95      0.95       737\n",
    "          1       0.76      0.78      0.77       145\n",
    "          avg / total       0.92      0.92      0.92       882\n",
    "          \n",
    "          \n",
    "#### PCA data set --- Exactly same with multiple runs - seed or no seed -- \n",
    "\n",
    "Accuracy Score = 0.834467120181 = 83.44% \n",
    "\n",
    "            precision    recall  f1-score   support\n",
    "\n",
    "          0       0.84      1.00      0.91       737\n",
    "          1       0.00      0.00      0.00       145       ## Notice all ZERO's,none of Class[1] Predicted ?? \n",
    "      avg / total       0.70      0.83      0.76       882\n",
    "\n",
    "#### Random_State Seed Value = 123 , No PCA or Scaling , Feature AGE Dropped :- \n",
    "\n",
    "Accuracy Score = 0.878684807256 = 87.86% \n",
    "AUC-Area Under the Curve Score = 0.672582229916 = 67.25%\n",
    "\n",
    "\n",
    "             precision    recall  f1-score   support\n",
    "\n",
    "          0       0.89      0.98      0.93       737\n",
    "          1       0.78      0.37      0.50       145      \n",
    "          avg / total       0.87      0.88      0.86       882\n",
    "\n",
    "\n",
    "#### Random_State Seed Value = 123 , No PCA or Scaling , Feature AGE Included  :- \n",
    "\n",
    "Accuracy Score = 0.863945578231 = 86.39%\n",
    "AUC-Area Under the Curve Score = 0.613905394657 = 61.39%\n",
    "\n",
    "             precision    recall  f1-score   support\n",
    "\n",
    "          0       0.87      0.99      0.92       737\n",
    "          1       0.78      0.24      0.37       145\n",
    "          avg / total       0.85      0.86      0.83       882\n",
    "\n",
    "\n"
   ]
  },
  {
   "cell_type": "code",
   "execution_count": 22,
   "metadata": {
    "collapsed": true
   },
   "outputs": [],
   "source": [
    "# Logistic Regression\n",
    "\n",
    "from sklearn.linear_model import LogisticRegression\n",
    "logreg = LogisticRegression()"
   ]
  },
  {
   "cell_type": "code",
   "execution_count": 23,
   "metadata": {
    "collapsed": false
   },
   "outputs": [
    {
     "name": "stdout",
     "output_type": "stream",
     "text": [
      "CPU times: user 20 ms, sys: 0 ns, total: 20 ms\n",
      "Wall time: 63.1 ms\n",
      "[-2.43467594]\n",
      "____________________________\n",
      "[[-0.28281214 -0.06865344 -0.15885479  0.67186757  0.27358832  0.07540101\n",
      "  -0.00433378 -0.43558162  0.20390588 -0.03418581 -0.40135786 -0.20479336\n",
      "  -0.31436942 -0.35689065 -0.41957143 -0.24106273  0.06302135  0.44600793\n",
      "   0.78759558 -0.18759866  0.12875279 -0.19616799 -0.21005523 -0.36324546\n",
      "  -0.09413943 -0.17893154  0.42517052 -0.47481225  0.45397709 -0.33350754]]\n"
     ]
    }
   ],
   "source": [
    "#Logistic Regression Model Fit \n",
    "\n",
    "%time logreg.fit(X_train_scaled, y_train)\n",
    "print(logreg.intercept_)\n",
    "print \"____________________________\"\n",
    "print(logreg.coef_)\n",
    "\n"
   ]
  },
  {
   "cell_type": "markdown",
   "metadata": {},
   "source": [
    "### Random State Seed= 124 Non PCA Non Scaled Data - Model Trained using X_train_scaled  \n",
    "CPU times: user 20 ms, sys: 0 ns, total: 20 ms\n",
    "Wall time: 63.1 ms\n",
    "[-2.43467594]\n",
    "____________________________\n",
    "[[-0.28281214 -0.06865344 -0.15885479  0.67186757  0.27358832  0.07540101\n",
    "  -0.00433378 -0.43558162  0.20390588 -0.03418581 -0.40135786 -0.20479336\n",
    "  -0.31436942 -0.35689065 -0.41957143 -0.24106273  0.06302135  0.44600793\n",
    "   0.78759558 -0.18759866  0.12875279 -0.19616799 -0.21005523 -0.36324546\n",
    "  -0.09413943 -0.17893154  0.42517052 -0.47481225  0.45397709 -0.33350754]]\n",
    "\n",
    "\n",
    "### Non PCA Non Scaled Data - Model Trained using X_train\n",
    "\n",
    "CPU times: user 24 ms, sys: 0 ns, total: 24 ms\n",
    "Wall time: 326 ms\n",
    "[-2.36830026]\n",
    "____________________________\n",
    "[[-0.22926078  0.02842471 -0.12015534  0.53251037  0.27349992 -0.00501477\n",
    "  -0.07026319 -0.43308996  0.14688605 -0.05153573 -0.29965872 -0.32116135\n",
    "  -0.21602175 -0.44955459 -0.43029879 -0.14698227  0.08871293  0.38247998\n",
    "   0.73392199 -0.2554244   0.18246334 -0.23867643  0.         -0.17085906\n",
    "  -0.29944854 -0.10888722 -0.15189001  0.5286157  -0.47053308  0.51628589\n",
    "  -0.46213338]]\n",
    "\n",
    "\n",
    "### Random State Seed= 123 Non PCA Non Scaled Data - Model Trained using X_train  \n",
    "\n",
    "\n",
    "CPU times: user 68 ms, sys: 4 ms, total: 72 ms\n",
    "Wall time: 524 ms\n",
    "[ 0.00057899]\n",
    "____________________________\n",
    "[[ -2.41465872e-02  -4.92080733e-03  -2.34642609e-04   1.68309915e-01\n",
    "    2.70271877e-02  -9.01246489e-03  -2.26917398e-02  -3.27923361e-01\n",
    "    4.00104704e-02  -1.85470147e-03  -2.56502435e-01  -5.68589051e-02\n",
    "    8.84412682e-02  -3.24237113e-01  -3.16467654e-01  -1.25498378e-04\n",
    "    8.15611102e-06   1.60560664e-01   4.71414431e-01  -3.66879867e-02\n",
    "    5.26985015e-02  -1.40384273e-01   4.63188771e-02  -2.98077801e-01\n",
    "   -2.60246042e-02  -1.15840781e-01  -1.15749399e-01   7.66046992e-02\n",
    "   -1.17914023e-01   1.45985087e-01  -1.31963175e-01]]\n",
    "\n"
   ]
  },
  {
   "cell_type": "code",
   "execution_count": 24,
   "metadata": {
    "collapsed": false
   },
   "outputs": [
    {
     "name": "stdout",
     "output_type": "stream",
     "text": [
      "<type 'numpy.ndarray'>\n"
     ]
    }
   ],
   "source": [
    "# make class predictions for X_test # the MODEL PRED \n",
    "# make class predictions for X_test_scaled # the MODEL PRED == y_pred_class_scaled\n",
    "\n",
    "y_pred_class_scaled = logreg.predict(X_test_scaled)\n",
    "print type(y_pred_class_scaled)"
   ]
  },
  {
   "cell_type": "code",
   "execution_count": 13,
   "metadata": {
    "collapsed": false
   },
   "outputs": [],
   "source": [
    "# calculate predicted probabilities for X_test(well calibrated)\n",
    "y_pred_prob = logreg.predict_proba(X_test)[:, 1]\n",
    "#y_pred_prob #Ok print not required "
   ]
  },
  {
   "cell_type": "code",
   "execution_count": 25,
   "metadata": {
    "collapsed": false
   },
   "outputs": [
    {
     "name": "stdout",
     "output_type": "stream",
     "text": [
      "882\n",
      "__________________________________________\n",
      "882\n",
      "Logistic Reg Model predicted classes: [0 1 0 0 0 0 0 0 0 0 0 0 0 0 0 0 0 0 1 0 0 0 0 0 1 0 0 0 1 0 0 0 0 0 0 0 0\n",
      " 0 0 0 0 0 1 0 0 0 0 0 0 0 0 0 0 0 0 0 0 0 0 0 0 1 0 0 0 0 0 0 0 0 0 1 0 0\n",
      " 0 0 0 1 0 0 0 0 0 0 0 0 0 0 0 0 0 0 0 0 1 0 0 0 0 0 0 0 1 0 0 0 0 0 1 0 0\n",
      " 0 1 0 0 0 0 0 0 0 0 0 0 0 0 0 0 0 0 0 0 0 0 0 0 1 0 0 0 0 0 0 0 0 0 0 0 1\n",
      " 0 0 0 0 1 0 0 0 0 0 0 0 1 0 0 0 0 0 0 0 1 0 1 0 0 0 0 0 0 0 0 0 0 0 0 0 0\n",
      " 0 0 0 0 0 0 0 0 0 0 0 0 0 0 0 0 0 1 0 0 0 0 0 0 0 0 0 0 0 0 0 0 0 0 0 0 0\n",
      " 0 1 0 0 0 0 0 0 0 1 0 0 1 0 0 0 0 0 0 0 0 0 0 0 0 0 1 0 0 0 0 0 0 0 0 0 0\n",
      " 0 0 0 0 0 0 0 0 0 0 0 0 0 0 0 0 0 0 0 1 0 0 0 1 0 0 0 0 0 0 0 0 0 0 0 0 0\n",
      " 1 0 0 0 0 0 0 0 0 0 0 0 0 1 0 0 0 0 1 0 0 0 0 0 1 0 0 0 0 0 0 0 0 0 0 0 0\n",
      " 0 0 0 0 1 0 0 0 0 0 0 0 0 0 0 0 0 0 0 0 0 0 0 0 0 1 0 0 0 0 0 0 0 0 0 0 0\n",
      " 0 0 0 0 0 1 0 0 0 0 0 0 0 0 0 0 0 0 0 0 0 0 0 0 0 1 0 0 0 0 0 0 0 0 0 0 0\n",
      " 0 0 0 0 0 0 1 0 0 0 0 0 0 1 0 0 0 0 0 0 1 0 1 0 0 0 0 1 0 0 0 0 0 1 0 0 0\n",
      " 0 0 0 0 1 0 0 0 0 1 1 0 0 0 0 0 0 0 0 1 0 0 0 0 0 0 0 0 0 0 0 0 0 0 0 0 0\n",
      " 0 1 0 0 0 0 0 0 0 0 0 0 0 0 0 0 0 0 0 1 0 0 0 0 0 0 0 1 0 0 0 0 0 0 0 1 0\n",
      " 1 0 0 0 0 0 0 0 0 1 0 0 0 0 0 0 0 0 0 0 0 0 0 0 0 0 0 0 0 0 0 0 0 0 0 0 0\n",
      " 0 0 0 0 0 0 0 1 0 0 0 0 0 0 0 0 0 0 0 0 0 1 0 0 0 0 0 0 0 0 0 0 0 0 0 1 0\n",
      " 0 0 0 1 0 0 0 0 0 0 1 0 0 0 0 0 0 0 0 0 0 0 0 0 0 0 0 0 0 0 0 1 0 0 0 0 0\n",
      " 0 0 0 0 0 0 0 0 0 0 0 0 0 0 0 0 0 1 0 0 0 0 0 0 0 1 0 0 0 0 0 0 0 0 0 0 0\n",
      " 0 0 0 0 1 0 0 0 0 0 0 0 0 0 1 0 0 0 0 0 0 0 0 0 0 0 0 0 0 0 0 0 0 0 0 0 0\n",
      " 0 0 0 0 0 0 0 0 0 0 0 0 0 0 0 0 0 0 0 1 0 0 0 0 0 0 0 0 0 0 0 1 0 0 0 0 0\n",
      " 0 0 0 0 0 0 0 0 0 0 0 0 0 0 0 0 0 0 0 0 0 0 0 0 0 0 0 0 0 0 0 0 0 0 0 0 0\n",
      " 0 0 1 0 0 0 0 0 0 0 0 0 0 0 0 0 0 0 0 0 0 1 0 0 0 0 1 0 0 0 0 0 0 0 0 0 0\n",
      " 0 0 0 0 0 0 0 0 0 1 0 0 0 0 0 0 0 0 0 0 0 0 0 0 0 0 0 0 0 0 0 0 0 1 0 0 1\n",
      " 0 0 0 0 0 0 0 0 0 0 0 0 0 0 0 0 0 0 1 1 0 0 0 0 0 0 0 0 0 0 0]\n",
      "Actual data - Real classes: [0 1 0 0 0 0 0 0 0 0 0 0 0 0 1 0 0 0 0 1 0 1 0 0 1 0 0 0 1 0 0 0 0 0 0 0 0\n",
      " 0 0 0 1 0 1 0 1 1 0 0 0 0 0 0 0 0 0 0 0 0 1 0 0 1 0 0 0 0 0 0 0 0 0 0 0 0\n",
      " 0 0 0 1 0 0 0 0 0 0 0 0 0 0 0 0 0 0 0 0 1 0 0 0 0 1 0 0 1 0 0 0 0 0 1 1 0\n",
      " 0 1 0 0 0 0 1 0 0 0 0 0 0 0 0 0 1 0 0 0 0 0 0 0 0 0 0 1 0 0 0 0 0 0 1 0 0\n",
      " 0 0 0 0 1 0 0 0 0 1 1 0 1 0 0 0 0 0 0 0 1 0 0 0 0 0 0 0 0 1 0 0 0 0 0 0 1\n",
      " 0 0 0 1 0 0 1 0 0 0 0 0 0 1 0 0 0 0 0 0 0 0 0 0 0 0 0 0 0 1 0 0 0 0 0 0 0\n",
      " 0 1 0 0 0 1 0 0 0 1 1 0 0 0 0 0 0 1 0 0 0 0 0 0 0 0 0 0 0 0 0 0 0 0 0 1 0\n",
      " 0 1 0 0 0 1 0 0 0 0 0 0 0 0 0 0 0 0 1 1 0 0 0 1 1 0 0 0 0 1 0 0 0 0 0 0 0\n",
      " 1 1 0 0 0 0 0 0 0 0 0 0 0 0 0 0 0 0 1 1 1 1 0 1 0 0 0 0 0 1 0 0 0 1 0 1 0\n",
      " 0 0 0 0 0 0 0 0 1 0 0 0 0 0 0 0 0 0 0 0 1 0 0 0 0 0 0 0 0 0 0 0 0 0 0 0 0\n",
      " 0 0 0 0 0 1 0 0 0 0 0 0 0 0 0 0 0 0 0 1 0 0 0 0 0 1 1 0 0 0 0 0 0 0 0 0 0\n",
      " 1 0 0 0 0 0 1 0 0 0 0 0 0 0 0 0 0 0 0 0 1 0 1 1 1 0 1 1 0 1 0 0 0 1 0 0 0\n",
      " 0 1 0 0 1 0 0 0 0 1 1 0 0 1 0 0 0 1 0 1 0 0 1 0 1 1 0 0 0 0 0 0 0 0 0 1 0\n",
      " 0 1 0 0 0 0 1 1 0 0 0 0 1 0 1 0 0 0 0 1 0 0 0 0 0 0 1 0 0 0 0 0 0 0 0 0 0\n",
      " 1 0 0 0 0 0 0 0 0 1 0 0 0 0 0 0 1 0 0 0 0 0 0 0 0 0 0 0 1 1 0 0 0 0 0 1 0\n",
      " 1 1 0 1 0 0 0 1 0 0 0 0 0 0 1 0 1 0 0 0 1 1 0 0 0 0 0 0 0 0 0 0 0 0 0 1 0\n",
      " 0 0 0 0 0 0 0 0 0 0 1 0 0 0 0 0 0 0 0 0 0 1 0 0 0 0 0 0 0 0 0 1 0 0 0 0 1\n",
      " 0 0 0 0 0 0 0 0 0 1 0 0 0 1 0 0 0 1 0 0 0 0 0 0 0 1 0 0 0 0 0 0 0 0 0 0 0\n",
      " 0 0 0 1 0 0 0 0 0 0 0 0 0 1 1 0 0 0 0 0 0 1 0 0 0 0 0 0 0 0 0 0 0 0 0 0 0\n",
      " 0 0 0 0 0 1 0 0 1 0 0 0 0 0 0 0 0 0 0 1 0 1 0 0 0 0 0 0 0 0 0 1 0 0 0 0 1\n",
      " 0 0 0 0 0 0 1 0 0 0 0 1 0 0 0 0 0 0 1 0 0 0 0 0 0 0 0 0 0 0 0 1 0 0 0 0 0\n",
      " 0 0 1 0 0 0 0 0 0 0 0 0 0 0 0 0 0 0 0 0 0 1 0 0 0 0 0 0 0 0 0 0 0 0 0 0 0\n",
      " 0 0 0 0 0 0 0 0 0 1 0 1 0 0 0 0 0 0 0 0 0 0 0 0 0 0 0 1 0 0 0 0 1 0 0 1 1\n",
      " 0 0 0 1 1 0 0 1 0 1 0 0 0 0 0 0 0 0 1 1 0 0 0 0 0 0 0 0 0 0 0]\n",
      "__________________________________________\n",
      "0.874149659864\n",
      "_____Model Evaluation with AUC Area Under the Curve __________________\n",
      "0.66321850019\n",
      "             precision    recall  f1-score   support\n",
      "\n",
      "          0       0.89      0.97      0.93       740\n",
      "          1       0.72      0.35      0.47       142\n",
      "\n",
      "avg / total       0.86      0.87      0.86       882\n",
      "\n"
     ]
    }
   ],
   "source": [
    "from sklearn import metrics\n",
    "\n",
    "\n",
    "print len(y_pred_class_scaled)\n",
    "print \"__________________________________________\"\n",
    "print len(y_test)\n",
    "print('Logistic Reg Model predicted classes: {}'.format(y_pred_class_scaled))\n",
    "print('Actual data - Real classes: {}'.format(y_test))\n",
    "print \"__________________________________________\"\n",
    "print metrics.accuracy_score(y_test, y_pred_class_scaled)\n",
    "print \"_____Model Evaluation with AUC Area Under the Curve __________________\"\n",
    "print metrics.roc_auc_score(y_test, y_pred_class_scaled)\n",
    "#\n",
    "print(metrics.classification_report(y_test, y_pred_class_scaled))\n",
    "\n"
   ]
  },
  {
   "cell_type": "markdown",
   "metadata": {},
   "source": [
    "### Random Seed = 124 \n",
    "\n",
    "Accuracy Score = 0.874149659864\n",
    "AUC-Area Under the Curve Score = 0.66321850019\n",
    "\n",
    "             precision    recall  f1-score   support\n",
    "\n",
    "          0       0.89      0.97      0.93       740\n",
    "          1       0.72      0.35      0.47       142\n",
    "          avg / total       0.86      0.87      0.86       882\n",
    "\n",
    "\n",
    "### Random Seed = 123 , Scaler Data -- \n",
    "Accuracy Score = 0.891156462585 = 89.11% \n",
    "AUC-Area Under the Curve Score = 0.704653597259\n",
    "\n",
    "             precision    recall  f1-score   support\n",
    "\n",
    "          0       0.90      0.98      0.94       740\n",
    "          1       0.80      0.43      0.56       142\n",
    "          avg / total       0.88      0.89      0.88       882\n",
    "\n",
    "\n",
    "\n",
    "### Random Seed = 123 , Scaler Data -- \n",
    "0.877551020408 = 87.75% \n",
    "_____Model Evaluation with AUC Area Under the Curve __________________\n",
    "0.669133954054 = 66.91% \n",
    "             precision    recall  f1-score   support\n",
    "\n",
    "          0       0.89      0.98      0.93       737\n",
    "          1       0.78      0.36      0.49       145\n",
    "\n",
    "avg / total       0.87      0.88      0.86       882\n",
    "\n",
    "\n",
    "\n",
    "### Random Seed = 123 , PCA Data -- \n",
    "\n",
    "0.834467120181\n",
    "precision    recall  f1-score   support\n",
    "\n",
    "          0       0.84      1.00      0.91       737\n",
    "          1       0.00      0.00      0.00       145  \n",
    "          avg / total       0.70      0.83      0.76       882\n",
    "\n",
    "2nd RUN ...##########################################################################\n",
    "Non PCA Data Set with Seed 123 -- Feature AGE Not Included \n",
    "\n",
    "_Model Evaluation Accuracy Score\n",
    "0.878684807256 == 87.86% , Accuracy Score - which is OK not Good as a Non Model is supposed to have - \n",
    "As calculated above earlier = 1-dfh[\"Attrition].mean() == 83.88% \n",
    "\n",
    "Model Evaluation with AUC Area Under the Curve __________________\n",
    "0.672582229916 = 67.25%\n",
    "\n",
    "0.878684807256\n",
    "             precision    recall  f1-score   support\n",
    "\n",
    "          0       0.89      0.98      0.93       737\n",
    "          1       0.78      0.37      0.50       145      ##### Notice All Non ZERO's === \n",
    "\n",
    "avg / total       0.87      0.88      0.86       882\n",
    "\n",
    "3rd RUN ...##############################################################################\n",
    "Non PCA Data Set with Seed 123 -- Feature AGE Included \n",
    "\n",
    "\n",
    "Model Evaluation Accuracy Score\n",
    "0.863945578231 = 86.39%\n",
    "\n",
    "#2_____Model Evaluation with AUC Area Under the Curve __________________\n",
    "0.613905394657 = 61.39%\n",
    "             precision    recall  f1-score   support\n",
    "\n",
    "          0       0.87      0.99      0.92       737\n",
    "          1       0.78      0.24      0.37       145\n",
    "\n",
    "avg / total       0.85      0.86      0.83       882\n",
    "\n",
    "### print the confusion matrix\n",
    "\n",
    "         PRED      PRED\n",
    "    _____0___________1________\n",
    "ACTUAL | TN   |     FP\n",
    "  0    |      |\n",
    "    ________________________\n",
    "ACTUAL | FN   |     TP\n",
    "  1    |      |\n",
    "    ________________________\n",
    "\n",
    "2nd RUN ---\n",
    "array([[722== TN,  15 == FP],\n",
    "       [ 92== FN,  53 == TP]])\n",
    "       \n",
    "3rd RUN ---\n",
    "[[727  10]\n",
    " [110  35]]\n",
    "       \n"
   ]
  },
  {
   "cell_type": "code",
   "execution_count": 41,
   "metadata": {
    "collapsed": false
   },
   "outputs": [
    {
     "name": "stdout",
     "output_type": "stream",
     "text": [
      "<type 'numpy.ndarray'>\n",
      "(762, 31)\n",
      "[[  35    1  882 ...,    9    0    8]\n",
      " [  31    2  667 ...,    0    0    0]\n",
      " [  30    1  317 ...,    4    0    2]\n",
      " ..., \n",
      " [  24    1  506 ...,    2    1    2]\n",
      " [  31    1 1079 ...,    2    1    4]\n",
      " [  36    3 1229 ...,    7    0    7]]\n"
     ]
    }
   ],
   "source": [
    "#print the True positives # Check Term -- \"True positives\" \n",
    "\n",
    "X_test[y_test == y_pred_class]\n",
    "\n",
    "T_Positives = X_test[y_test == y_pred_class]\n",
    "\n",
    "print type(T_Positives)\n",
    "\n",
    "print T_Positives.shape\n",
    "# (775, 30) == 722 + 53 == Diagonal 1 \n",
    "\n",
    "print T_Positives"
   ]
  },
  {
   "cell_type": "code",
   "execution_count": 42,
   "metadata": {
    "collapsed": false
   },
   "outputs": [
    {
     "name": "stdout",
     "output_type": "stream",
     "text": [
      "<type 'numpy.ndarray'>\n",
      "(120, 31)\n",
      "[[  29    1  992 ...,    2    1    5]\n",
      " [  41    1 1085 ...,    7    1    0]\n",
      " [  29    1  408 ...,    8    3   10]\n",
      " ..., \n",
      " [  21    1  501 ...,    2    1    2]\n",
      " [  34    2  988 ...,    2    0    2]\n",
      " [  26    1 1330 ...,    1    0    0]]\n"
     ]
    },
    {
     "data": {
      "text/plain": [
       "\"\\n\\n<type 'numpy.ndarray'>\\n(146, 12)\\n[[  31  667    1 ...,    0    0    0]\\n [  29  992    1 ...,    2    1    5]\\n [  26  342    2 ...,    2    1    2]\\n ..., \\n [  34  988   23 ...,    2    0    2]\\n [  26 1330   21 ...,    1    0    0]\\n [  25  383    9 ...,    2    2    2]]\\n\\n\\n\\n\""
      ]
     },
     "execution_count": 42,
     "metadata": {},
     "output_type": "execute_result"
    }
   ],
   "source": [
    "# print the True Negatives # Check Term -- \"T_Negatives\" \n",
    "\n",
    "X_test[y_test != y_pred_class]\n",
    "\n",
    "T_Negatives = X_test[y_test != y_pred_class]\n",
    "\n",
    "print type(T_Negatives)\n",
    "\n",
    "print T_Negatives.shape\n",
    "\n",
    "print T_Negatives\n",
    "\n",
    "# 146 = 145 + 1 --- from the Diagonal of Confusion Matrix seen above \n",
    "\n",
    "\n",
    "'''\n",
    "\n",
    "<type 'numpy.ndarray'>\n",
    "(146, 12)\n",
    "[[  31  667    1 ...,    0    0    0]\n",
    " [  29  992    1 ...,    2    1    5]\n",
    " [  26  342    2 ...,    2    1    2]\n",
    " ..., \n",
    " [  34  988   23 ...,    2    0    2]\n",
    " [  26 1330   21 ...,    1    0    0]\n",
    " [  25  383    9 ...,    2    2    2]]\n",
    "\n",
    "\n",
    "\n",
    "'''"
   ]
  },
  {
   "cell_type": "code",
   "execution_count": 37,
   "metadata": {
    "collapsed": false
   },
   "outputs": [
    {
     "name": "stdout",
     "output_type": "stream",
     "text": [
      "<type 'numpy.ndarray'>\n",
      "(1, 12)\n",
      "[[   32   267    29    49  2837 15919    13     6     6     2     4     1]]\n"
     ]
    }
   ],
   "source": [
    "# print the false positives\n",
    "\n",
    "X_test[y_test < y_pred_class]\n",
    "\n",
    "False_Positives = X_test[y_test < y_pred_class]\n",
    "print type(False_Positives)\n",
    "\n",
    "print False_Positives.shape\n",
    "\n",
    "print False_Positives"
   ]
  },
  {
   "cell_type": "code",
   "execution_count": 38,
   "metadata": {
    "collapsed": false
   },
   "outputs": [
    {
     "name": "stdout",
     "output_type": "stream",
     "text": [
      "<type 'numpy.ndarray'>\n",
      "(145, 12)\n",
      "[[  31  667    1 ...,    0    0    0]\n",
      " [  29  992    1 ...,    2    1    5]\n",
      " [  26  342    2 ...,    2    1    2]\n",
      " ..., \n",
      " [  34  988   23 ...,    2    0    2]\n",
      " [  26 1330   21 ...,    1    0    0]\n",
      " [  25  383    9 ...,    2    2    2]]\n"
     ]
    }
   ],
   "source": [
    "# print the false negatives \n",
    "\n",
    "False_Negatives = X_test[y_test > y_pred_class]\n",
    "print type(False_Negatives)\n",
    "\n",
    "print False_Negatives.shape\n",
    "\n",
    "print False_Negatives"
   ]
  },
  {
   "cell_type": "code",
   "execution_count": 14,
   "metadata": {
    "collapsed": false
   },
   "outputs": [
    {
     "data": {
      "text/plain": [
       "numpy.ndarray"
      ]
     },
     "execution_count": 14,
     "metadata": {},
     "output_type": "execute_result"
    }
   ],
   "source": [
    "type(y_pred_class)"
   ]
  },
  {
   "cell_type": "code",
   "execution_count": 15,
   "metadata": {
    "collapsed": false
   },
   "outputs": [
    {
     "data": {
      "text/plain": [
       "(882,)"
      ]
     },
     "execution_count": 15,
     "metadata": {},
     "output_type": "execute_result"
    }
   ],
   "source": [
    "y_pred_class.shape"
   ]
  },
  {
   "cell_type": "code",
   "execution_count": 43,
   "metadata": {
    "collapsed": false
   },
   "outputs": [],
   "source": [
    "# Correlation from DF Data \n",
    "import numpy as np\n",
    "import pandas as pd\n",
    "import matplotlib.pyplot as plt\n",
    "import seaborn\n",
    "\n",
    "corr_df1 = df1.corr(method='pearson')\n",
    "\n",
    "#print(\"--------------- CORRELATIONS ---------------\")\n",
    "\n",
    "#print(corr_dfpca.head(len(dfpca))) # Not required as we are plottng the Correlation \n",
    "\n",
    "# We can look at Column 1 of the Print out below - see what all Features have a \n",
    "# greater than 0.1 Corr value - Negative or Positive both considered . "
   ]
  },
  {
   "cell_type": "code",
   "execution_count": 45,
   "metadata": {
    "collapsed": false
   },
   "outputs": [
    {
     "name": "stdout",
     "output_type": "stream",
     "text": [
      "--------------- CREATE A HEATMAP ---------------\n"
     ]
    },
    {
     "data": {
      "image/png": "[encoded data removed]",
      "text/plain": [
       "<matplotlib.figure.Figure at 0x7f466a35d090>"
      ]
     },
     "metadata": {},
     "output_type": "display_data"
    }
   ],
   "source": [
    "print(\"--------------- CREATE A HEATMAP ---------------\")\n",
    "# Create a mask to display only the lower triangle of the matrix (since it's mirrored around its \n",
    "# top-left to bottom-right diagonal).\n",
    "mask = np.zeros_like(corr_df1)\n",
    "mask[np.triu_indices_from(mask)] = True\n",
    "# Create the heatmap using seaborn library. \n",
    "# List if colormaps (parameter 'cmap') is available here: http://matplotlib.org/examples/color/colormaps_reference.html\n",
    "seaborn.heatmap(corr_df1, cmap='RdYlGn_r', vmax=1.0, vmin=-1.0 , mask = mask, linewidths=2.5)\n",
    " \n",
    "# Show the plot we reorient the labels for each column and row to make them easier to read.\n",
    "plt.yticks(rotation=0) \n",
    "plt.xticks(rotation=90) \n",
    "plt.show()"
   ]
  },
  {
   "cell_type": "code",
   "execution_count": null,
   "metadata": {
    "collapsed": true
   },
   "outputs": [],
   "source": [
    "# Watch this space for more "
   ]
  },
  {
   "cell_type": "code",
   "execution_count": 8,
   "metadata": {
    "collapsed": false
   },
   "outputs": [
    {
     "name": "stdout",
     "output_type": "stream",
     "text": [
      "(2058, 31)\n",
      "(882, 31)\n",
      "(2058,)\n",
      "(882,)\n"
     ]
    }
   ],
   "source": [
    "#Sandbox Code - Not required anymore \n",
    "\n",
    "#\n",
    "# We are now using - from sklearn.model_selection import StratifiedShuffleSplit\n",
    "\n",
    "#\n",
    "#Add version check for recent scikit-learn 0.18 checks\n",
    "from distutils.version import LooseVersion as Version\n",
    "from sklearn import __version__ as sklearn_version\n",
    "import random\n",
    "random.seed(123) # if NO seed - we get non-reproducible results \n",
    "\n",
    "#Split data - 70% training, 30% test set:\n",
    "\n",
    "if Version(sklearn_version) < '0.18':\n",
    "    from sklearn.cross_validation import train_test_split\n",
    "else:\n",
    "    from sklearn.model_selection import train_test_split\n",
    "\n",
    "X_train, X_test, y_train, y_test = train_test_split(X, y, test_size=0.3, random_state=0)\n",
    "#\n",
    "print X_train.shape\n",
    "print X_test.shape\n",
    "print y_train.shape # Pred Variable Only - Attrition--  Train Set \n",
    "print y_test.shape  # Pred Variable Only - Attrition--  Test Set \n"
   ]
  },
  {
   "cell_type": "code",
   "execution_count": 28,
   "metadata": {
    "collapsed": false
   },
   "outputs": [
    {
     "name": "stdout",
     "output_type": "stream",
     "text": [
      "(3, 3)\n",
      "<type 'numpy.ndarray'>\n",
      "_________________________________\n",
      "[[-1.00514142 -1.00514142 -1.00514142]\n",
      " [-0.35897908 -0.35897908 -0.35897908]\n",
      " [ 1.3641205   1.3641205   1.3641205 ]]\n",
      "_________________________________\n",
      "[ 0.  0.  0.]\n",
      "_________________________________\n",
      "[ 1.  1.  1.]\n"
     ]
    }
   ],
   "source": [
    "##### Sandbox from -- http://scikit-learn.org/stable/modules/preprocessing.html#preprocessing-scaler\n",
    "# OK \n",
    "\n",
    "X_train1 = np.array([[1,2,3],[4,5,6],[12,13,14]])\n",
    "\n",
    "print X_train1.shape \n",
    "\n",
    "from sklearn import preprocessing\n",
    "from sklearn.preprocessing import scale\n",
    "\n",
    "X_trn_scaled = preprocessing.scale(X_train1)\n",
    "\n",
    "print type(X_trn_scaled)\n",
    "\n",
    "print \"_________________________________\"\n",
    "print X_trn_scaled\n",
    "print \"_________________________________\"\n",
    "print X_trn_scaled.mean(axis=0)\n",
    "print \"_________________________________\"\n",
    "print X_trn_scaled.std(axis=0)"
   ]
  }
 ],
 "metadata": {
  "anaconda-cloud": {},
  "celltoolbar": "Raw Cell Format",
  "kernelspec": {
   "display_name": "Python [default]",
   "language": "python",
   "name": "python2"
  },
  "language_info": {
   "codemirror_mode": {
    "name": "ipython",
    "version": 2
   },
   "file_extension": ".py",
   "mimetype": "text/x-python",
   "name": "python",
   "nbconvert_exporter": "python",
   "pygments_lexer": "ipython2",
   "version": "2.7.12"
  },
  "nbpresent": {
   "slides": {},
   "themes": {
    "default": "9ec39683-a214-4c5e-9a6a-1ab41833ba57",
    "theme": {
     "2e6b24be-7ec4-4c61-8ad8-c6adebf0015d": {
      "backgrounds": {
       "backgroundColor": {
        "background-color": "backgroundColor",
        "id": "backgroundColor"
       }
      },
      "id": "2e6b24be-7ec4-4c61-8ad8-c6adebf0015d",
      "palette": {
       "backgroundColor": {
        "id": "backgroundColor",
        "rgb": [
         256,
         256,
         256
        ]
       },
       "headingColor": {
        "id": "headingColor",
        "rgb": [
         0,
         0,
         0
        ]
       },
       "linkColor": {
        "id": "linkColor",
        "rgb": [
         0,
         0,
         139
        ]
       },
       "mainColor": {
        "id": "mainColor",
        "rgb": [
         0,
         0,
         0
        ]
       }
      },
      "rules": {
       "a": {
        "color": "linkColor"
       },
       "h1": {
        "color": "headingColor",
        "font-family": "News Cycle",
        "font-size": 7
       },
       "h2": {
        "color": "headingColor",
        "font-family": "News Cycle",
        "font-size": 5
       },
       "h3": {
        "color": "headingColor",
        "font-family": "News Cycle",
        "font-size": 3.75
       },
       "h4": {
        "color": "headingColor",
        "font-family": "News Cycle",
        "font-size": 3
       },
       "h5": {
        "color": "headingColor",
        "font-family": "News Cycle"
       },
       "h6": {
        "color": "headingColor",
        "font-family": "News Cycle"
       },
       "h7": {
        "color": "headingColor",
        "font-family": "News Cycle"
       },
       "li": {
        "color": "mainColor",
        "font-family": "Lato",
        "font-size": 5
       },
       "p": {
        "color": "mainColor",
        "font-family": "Lato",
        "font-size": 5
       }
      },
      "text-base": {
       "color": "mainColor",
       "font-family": "Lato",
       "font-size": 5
      }
     },
     "9ec39683-a214-4c5e-9a6a-1ab41833ba57": {
      "backgrounds": {
       "dc7afa04-bf90-40b1-82a5-726e3cff5267": {
        "background-color": "31af15d2-7e15-44c5-ab5e-e04b16a89eff",
        "id": "dc7afa04-bf90-40b1-82a5-726e3cff5267"
       }
      },
      "id": "9ec39683-a214-4c5e-9a6a-1ab41833ba57",
      "palette": {
       "19cc588f-0593-49c9-9f4b-e4d7cc113b1c": {
        "id": "19cc588f-0593-49c9-9f4b-e4d7cc113b1c",
        "rgb": [
         252,
         252,
         252
        ]
       },
       "31af15d2-7e15-44c5-ab5e-e04b16a89eff": {
        "id": "31af15d2-7e15-44c5-ab5e-e04b16a89eff",
        "rgb": [
         68,
         68,
         68
        ]
       },
       "50f92c45-a630-455b-aec3-788680ec7410": {
        "id": "50f92c45-a630-455b-aec3-788680ec7410",
        "rgb": [
         197,
         226,
         245
        ]
       },
       "c5cc3653-2ee1-402a-aba2-7caae1da4f6c": {
        "id": "c5cc3653-2ee1-402a-aba2-7caae1da4f6c",
        "rgb": [
         43,
         126,
         184
        ]
       },
       "efa7f048-9acb-414c-8b04-a26811511a21": {
        "id": "efa7f048-9acb-414c-8b04-a26811511a21",
        "rgb": [
         25.118061674008803,
         73.60176211453744,
         107.4819383259912
        ]
       }
      },
      "rules": {
       "a": {
        "color": "19cc588f-0593-49c9-9f4b-e4d7cc113b1c"
       },
       "blockquote": {
        "color": "50f92c45-a630-455b-aec3-788680ec7410",
        "font-size": 3
       },
       "code": {
        "font-family": "Anonymous Pro"
       },
       "h1": {
        "color": "19cc588f-0593-49c9-9f4b-e4d7cc113b1c",
        "font-family": "Merriweather",
        "font-size": 8
       },
       "h2": {
        "color": "19cc588f-0593-49c9-9f4b-e4d7cc113b1c",
        "font-family": "Merriweather",
        "font-size": 6
       },
       "h3": {
        "color": "50f92c45-a630-455b-aec3-788680ec7410",
        "font-family": "Lato",
        "font-size": 5.5
       },
       "h4": {
        "color": "c5cc3653-2ee1-402a-aba2-7caae1da4f6c",
        "font-family": "Lato",
        "font-size": 5
       },
       "h5": {
        "font-family": "Lato"
       },
       "h6": {
        "font-family": "Lato"
       },
       "h7": {
        "font-family": "Lato"
       },
       "li": {
        "color": "50f92c45-a630-455b-aec3-788680ec7410",
        "font-size": 3.25
       },
       "pre": {
        "font-family": "Anonymous Pro",
        "font-size": 4
       }
      },
      "text-base": {
       "color": "19cc588f-0593-49c9-9f4b-e4d7cc113b1c",
       "font-family": "Lato",
       "font-size": 4
      }
     },
     "b6bbb8fe-3639-4efb-a0d0-d187f5537b76": {
      "backgrounds": {
       "backgroundColor": {
        "background-color": "backgroundColor",
        "id": "backgroundColor"
       }
      },
      "id": "b6bbb8fe-3639-4efb-a0d0-d187f5537b76",
      "palette": {
       "backgroundColor": {
        "id": "backgroundColor",
        "rgb": [
         34,
         34,
         34
        ]
       },
       "headingColor": {
        "id": "headingColor",
        "rgb": [
         256,
         256,
         256
        ]
       },
       "linkColor": {
        "id": "linkColor",
        "rgb": [
         66,
         175,
         250
        ]
       },
       "mainColor": {
        "id": "mainColor",
        "rgb": [
         256,
         256,
         256
        ]
       }
      },
      "rules": {
       "a": {
        "color": "linkColor"
       },
       "h1": {
        "color": "headingColor",
        "font-family": "Source Sans Pro",
        "font-size": 5.25
       },
       "h2": {
        "color": "headingColor",
        "font-family": "Source Sans Pro",
        "font-size": 4
       },
       "h3": {
        "color": "headingColor",
        "font-family": "Source Sans Pro",
        "font-size": 3.5
       },
       "h4": {
        "color": "headingColor",
        "font-family": "Source Sans Pro",
        "font-size": 3
       },
       "h5": {
        "color": "headingColor",
        "font-family": "Source Sans Pro"
       },
       "h6": {
        "color": "headingColor",
        "font-family": "Source Sans Pro"
       },
       "h7": {
        "color": "headingColor",
        "font-family": "Source Sans Pro"
       },
       "li": {
        "color": "mainColor",
        "font-family": "Source Sans Pro",
        "font-size": 6
       },
       "p": {
        "color": "mainColor",
        "font-family": "Source Sans Pro",
        "font-size": 6
       }
      },
      "text-base": {
       "color": "mainColor",
       "font-family": "Source Sans Pro",
       "font-size": 6
      }
     }
    }
   }
  }
 },
 "nbformat": 4,
 "nbformat_minor": 1
}
