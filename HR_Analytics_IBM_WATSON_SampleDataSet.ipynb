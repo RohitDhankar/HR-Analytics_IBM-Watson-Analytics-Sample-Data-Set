{
 "cells": [
  {
   "cell_type": "code",
   "execution_count": 38,
   "metadata": {
    "collapsed": true
   },
   "outputs": [],
   "source": [
    "import matplotlib.pyplot as plt\n",
    "import matplotlib as mpl\n",
    "import numpy as np\n",
    "import pandas as pd\n",
    "import scipy as sp\n",
    "from sklearn import mixture\n",
    "from sklearn.decomposition import PCA\n",
    "from sklearn.metrics import confusion_matrix\n",
    "\n",
    "%matplotlib inline\n"
   ]
  },
  {
   "cell_type": "code",
   "execution_count": null,
   "metadata": {
    "collapsed": true
   },
   "outputs": [],
   "source": [
    "# Source of HR - Employee Attrition Data == WATSON Sample Data Sets\n",
    "# https://www.ibm.com/communities/analytics/watson-analytics-blog/guide-to-sample-datasets/\n",
    "\n",
    "#\n",
    "# Before we proceed with kNN or any other Classification technique ,we need -Feature Reduction. \n",
    "# Reducing the Number of Features or Variables ,which are utilized to Classify -Employees Attrition Risk. \n",
    "# Basic feature reductiion techniques :-\n",
    "\n",
    "# 1- Factor Analysis - Factor Analysis is a generic term used for Analysis of Factors . PCA is best option. \n",
    "# 2- Principal Component Analysis - PCA (Done)\n",
    "#\n",
    "# Why PCA -Further reading :-\n",
    "# http://scikit-learn.org/stable/auto_examples/plot_compare_reduction.html#sphx-glr-auto-examples-plot-compare-reduction-py\n",
    "#\n",
    "#\n",
    "# I have undertaken PCA for the IBM WATSON ANALYTICS SAMPLE - Employee Attrition Dataset \n",
    "#\n",
    "# Standardize Variables :- \"Democracy amongst Variables\" - Ensure All Features have - MEAN = 0 and Variance = 1 \n",
    "#\n",
    "# As a further investigation - we need Survival Analysis \n",
    "# Survival Analysis predicts - when an employee is most likely to Churn or Exit. \n",
    "#"
   ]
  },
  {
   "cell_type": "code",
   "execution_count": null,
   "metadata": {
    "collapsed": true
   },
   "outputs": [],
   "source": [
    "#Tried PCA --- Now without PCA \n",
    "# While doing PCA - do NOT Include RESPONSE Variable - Attrition \n",
    "# Do NOT include - Binomial Or Categorical Variables - Categorical can be included with advanced methods \n",
    "# Advanced methods listed here- http://stats.stackexchange.com/questions/14002/whats-the-difference-between-principal-component-analysis-and-multidimensional/14013#14013\n",
    "# Advanced methods out of scope for now . "
   ]
  },
  {
   "cell_type": "code",
   "execution_count": 2,
   "metadata": {
    "collapsed": false
   },
   "outputs": [
    {
     "data": {
      "text/html": [
       "<div>\n",
       "<table border=\"1\" class=\"dataframe\">\n",
       "  <thead>\n",
       "    <tr style=\"text-align: right;\">\n",
       "      <th></th>\n",
       "      <th>Age</th>\n",
       "      <th>Attrition</th>\n",
       "      <th>BusinessTravel</th>\n",
       "      <th>DailyRate</th>\n",
       "      <th>Department</th>\n",
       "      <th>DistanceFromHome</th>\n",
       "      <th>Education</th>\n",
       "      <th>EducationField</th>\n",
       "      <th>EmployeeCount</th>\n",
       "      <th>EmployeeNumber</th>\n",
       "      <th>...</th>\n",
       "      <th>RelationshipSatisfaction</th>\n",
       "      <th>StandardHours</th>\n",
       "      <th>StockOptionLevel</th>\n",
       "      <th>TotalWorkingYears</th>\n",
       "      <th>TrainingTimesLastYear</th>\n",
       "      <th>WorkLifeBalance</th>\n",
       "      <th>YearsAtCompany</th>\n",
       "      <th>YearsInCurrentRole</th>\n",
       "      <th>YearsSinceLastPromotion</th>\n",
       "      <th>YearsWithCurrManager</th>\n",
       "    </tr>\n",
       "  </thead>\n",
       "  <tbody>\n",
       "    <tr>\n",
       "      <th>0</th>\n",
       "      <td>41</td>\n",
       "      <td>Yes</td>\n",
       "      <td>Travel_Rarely</td>\n",
       "      <td>1102</td>\n",
       "      <td>Sales</td>\n",
       "      <td>1</td>\n",
       "      <td>2</td>\n",
       "      <td>Life Sciences</td>\n",
       "      <td>1</td>\n",
       "      <td>1</td>\n",
       "      <td>...</td>\n",
       "      <td>1</td>\n",
       "      <td>80</td>\n",
       "      <td>0</td>\n",
       "      <td>8</td>\n",
       "      <td>0</td>\n",
       "      <td>1</td>\n",
       "      <td>6</td>\n",
       "      <td>4</td>\n",
       "      <td>0</td>\n",
       "      <td>5</td>\n",
       "    </tr>\n",
       "    <tr>\n",
       "      <th>1</th>\n",
       "      <td>49</td>\n",
       "      <td>No</td>\n",
       "      <td>Travel_Frequently</td>\n",
       "      <td>279</td>\n",
       "      <td>Research &amp; Development</td>\n",
       "      <td>8</td>\n",
       "      <td>1</td>\n",
       "      <td>Life Sciences</td>\n",
       "      <td>1</td>\n",
       "      <td>2</td>\n",
       "      <td>...</td>\n",
       "      <td>4</td>\n",
       "      <td>80</td>\n",
       "      <td>1</td>\n",
       "      <td>10</td>\n",
       "      <td>3</td>\n",
       "      <td>3</td>\n",
       "      <td>10</td>\n",
       "      <td>7</td>\n",
       "      <td>1</td>\n",
       "      <td>7</td>\n",
       "    </tr>\n",
       "    <tr>\n",
       "      <th>2</th>\n",
       "      <td>37</td>\n",
       "      <td>Yes</td>\n",
       "      <td>Travel_Rarely</td>\n",
       "      <td>1373</td>\n",
       "      <td>Research &amp; Development</td>\n",
       "      <td>2</td>\n",
       "      <td>2</td>\n",
       "      <td>Other</td>\n",
       "      <td>1</td>\n",
       "      <td>3</td>\n",
       "      <td>...</td>\n",
       "      <td>2</td>\n",
       "      <td>80</td>\n",
       "      <td>0</td>\n",
       "      <td>7</td>\n",
       "      <td>3</td>\n",
       "      <td>3</td>\n",
       "      <td>0</td>\n",
       "      <td>0</td>\n",
       "      <td>0</td>\n",
       "      <td>0</td>\n",
       "    </tr>\n",
       "    <tr>\n",
       "      <th>3</th>\n",
       "      <td>33</td>\n",
       "      <td>No</td>\n",
       "      <td>Travel_Frequently</td>\n",
       "      <td>1392</td>\n",
       "      <td>Research &amp; Development</td>\n",
       "      <td>3</td>\n",
       "      <td>4</td>\n",
       "      <td>Life Sciences</td>\n",
       "      <td>1</td>\n",
       "      <td>4</td>\n",
       "      <td>...</td>\n",
       "      <td>3</td>\n",
       "      <td>80</td>\n",
       "      <td>0</td>\n",
       "      <td>8</td>\n",
       "      <td>3</td>\n",
       "      <td>3</td>\n",
       "      <td>8</td>\n",
       "      <td>7</td>\n",
       "      <td>3</td>\n",
       "      <td>0</td>\n",
       "    </tr>\n",
       "    <tr>\n",
       "      <th>4</th>\n",
       "      <td>27</td>\n",
       "      <td>No</td>\n",
       "      <td>Travel_Rarely</td>\n",
       "      <td>591</td>\n",
       "      <td>Research &amp; Development</td>\n",
       "      <td>2</td>\n",
       "      <td>1</td>\n",
       "      <td>Medical</td>\n",
       "      <td>1</td>\n",
       "      <td>5</td>\n",
       "      <td>...</td>\n",
       "      <td>4</td>\n",
       "      <td>80</td>\n",
       "      <td>1</td>\n",
       "      <td>6</td>\n",
       "      <td>3</td>\n",
       "      <td>3</td>\n",
       "      <td>2</td>\n",
       "      <td>2</td>\n",
       "      <td>2</td>\n",
       "      <td>2</td>\n",
       "    </tr>\n",
       "  </tbody>\n",
       "</table>\n",
       "<p>5 rows × 35 columns</p>\n",
       "</div>"
      ],
      "text/plain": [
       "   Age Attrition     BusinessTravel  DailyRate              Department  \\\n",
       "0   41       Yes      Travel_Rarely       1102                   Sales   \n",
       "1   49        No  Travel_Frequently        279  Research & Development   \n",
       "2   37       Yes      Travel_Rarely       1373  Research & Development   \n",
       "3   33        No  Travel_Frequently       1392  Research & Development   \n",
       "4   27        No      Travel_Rarely        591  Research & Development   \n",
       "\n",
       "   DistanceFromHome  Education EducationField  EmployeeCount  EmployeeNumber  \\\n",
       "0                 1          2  Life Sciences              1               1   \n",
       "1                 8          1  Life Sciences              1               2   \n",
       "2                 2          2          Other              1               3   \n",
       "3                 3          4  Life Sciences              1               4   \n",
       "4                 2          1        Medical              1               5   \n",
       "\n",
       "           ...           RelationshipSatisfaction StandardHours  \\\n",
       "0          ...                                  1            80   \n",
       "1          ...                                  4            80   \n",
       "2          ...                                  2            80   \n",
       "3          ...                                  3            80   \n",
       "4          ...                                  4            80   \n",
       "\n",
       "   StockOptionLevel  TotalWorkingYears  TrainingTimesLastYear WorkLifeBalance  \\\n",
       "0                 0                  8                      0               1   \n",
       "1                 1                 10                      3               3   \n",
       "2                 0                  7                      3               3   \n",
       "3                 0                  8                      3               3   \n",
       "4                 1                  6                      3               3   \n",
       "\n",
       "   YearsAtCompany YearsInCurrentRole  YearsSinceLastPromotion  \\\n",
       "0               6                  4                        0   \n",
       "1              10                  7                        1   \n",
       "2               0                  0                        0   \n",
       "3               8                  7                        3   \n",
       "4               2                  2                        2   \n",
       "\n",
       "   YearsWithCurrManager  \n",
       "0                     5  \n",
       "1                     7  \n",
       "2                     0  \n",
       "3                     0  \n",
       "4                     2  \n",
       "\n",
       "[5 rows x 35 columns]"
      ]
     },
     "execution_count": 2,
     "metadata": {},
     "output_type": "execute_result"
    }
   ],
   "source": [
    "# Pre Process- Data \n",
    "\n",
    "df=pd.read_csv('hr.tsv',sep='\\t')\n",
    "df.head(5)\n",
    "\n",
    "# http://pandas.pydata.org/pandas-docs/stable/generated/pandas.read_csv.html\n",
    "# Read TSV with \\t \n",
    "\n"
   ]
  },
  {
   "cell_type": "code",
   "execution_count": 3,
   "metadata": {
    "collapsed": false
   },
   "outputs": [
    {
     "data": {
      "text/html": [
       "<div>\n",
       "<table border=\"1\" class=\"dataframe\">\n",
       "  <thead>\n",
       "    <tr style=\"text-align: right;\">\n",
       "      <th></th>\n",
       "      <th>Age</th>\n",
       "      <th>Attrition</th>\n",
       "      <th>BusinessTravel</th>\n",
       "      <th>DailyRate</th>\n",
       "      <th>Department</th>\n",
       "      <th>DistanceFromHome</th>\n",
       "      <th>Education</th>\n",
       "      <th>EducationField</th>\n",
       "      <th>EmployeeCount</th>\n",
       "      <th>EmployeeNumber</th>\n",
       "      <th>...</th>\n",
       "      <th>RelationshipSatisfaction</th>\n",
       "      <th>StandardHours</th>\n",
       "      <th>StockOptionLevel</th>\n",
       "      <th>TotalWorkingYears</th>\n",
       "      <th>TrainingTimesLastYear</th>\n",
       "      <th>WorkLifeBalance</th>\n",
       "      <th>YearsAtCompany</th>\n",
       "      <th>YearsInCurrentRole</th>\n",
       "      <th>YearsSinceLastPromotion</th>\n",
       "      <th>YearsWithCurrManager</th>\n",
       "    </tr>\n",
       "  </thead>\n",
       "  <tbody>\n",
       "    <tr>\n",
       "      <th>0</th>\n",
       "      <td>41</td>\n",
       "      <td>1</td>\n",
       "      <td>1</td>\n",
       "      <td>1102</td>\n",
       "      <td>3</td>\n",
       "      <td>1</td>\n",
       "      <td>2</td>\n",
       "      <td>1</td>\n",
       "      <td>1</td>\n",
       "      <td>1</td>\n",
       "      <td>...</td>\n",
       "      <td>1</td>\n",
       "      <td>80</td>\n",
       "      <td>0</td>\n",
       "      <td>8</td>\n",
       "      <td>0</td>\n",
       "      <td>1</td>\n",
       "      <td>6</td>\n",
       "      <td>4</td>\n",
       "      <td>0</td>\n",
       "      <td>5</td>\n",
       "    </tr>\n",
       "    <tr>\n",
       "      <th>1</th>\n",
       "      <td>49</td>\n",
       "      <td>0</td>\n",
       "      <td>2</td>\n",
       "      <td>279</td>\n",
       "      <td>1</td>\n",
       "      <td>8</td>\n",
       "      <td>1</td>\n",
       "      <td>1</td>\n",
       "      <td>1</td>\n",
       "      <td>2</td>\n",
       "      <td>...</td>\n",
       "      <td>4</td>\n",
       "      <td>80</td>\n",
       "      <td>1</td>\n",
       "      <td>10</td>\n",
       "      <td>3</td>\n",
       "      <td>3</td>\n",
       "      <td>10</td>\n",
       "      <td>7</td>\n",
       "      <td>1</td>\n",
       "      <td>7</td>\n",
       "    </tr>\n",
       "    <tr>\n",
       "      <th>2</th>\n",
       "      <td>37</td>\n",
       "      <td>1</td>\n",
       "      <td>1</td>\n",
       "      <td>1373</td>\n",
       "      <td>1</td>\n",
       "      <td>2</td>\n",
       "      <td>2</td>\n",
       "      <td>5</td>\n",
       "      <td>1</td>\n",
       "      <td>3</td>\n",
       "      <td>...</td>\n",
       "      <td>2</td>\n",
       "      <td>80</td>\n",
       "      <td>0</td>\n",
       "      <td>7</td>\n",
       "      <td>3</td>\n",
       "      <td>3</td>\n",
       "      <td>0</td>\n",
       "      <td>0</td>\n",
       "      <td>0</td>\n",
       "      <td>0</td>\n",
       "    </tr>\n",
       "    <tr>\n",
       "      <th>3</th>\n",
       "      <td>33</td>\n",
       "      <td>0</td>\n",
       "      <td>2</td>\n",
       "      <td>1392</td>\n",
       "      <td>1</td>\n",
       "      <td>3</td>\n",
       "      <td>4</td>\n",
       "      <td>1</td>\n",
       "      <td>1</td>\n",
       "      <td>4</td>\n",
       "      <td>...</td>\n",
       "      <td>3</td>\n",
       "      <td>80</td>\n",
       "      <td>0</td>\n",
       "      <td>8</td>\n",
       "      <td>3</td>\n",
       "      <td>3</td>\n",
       "      <td>8</td>\n",
       "      <td>7</td>\n",
       "      <td>3</td>\n",
       "      <td>0</td>\n",
       "    </tr>\n",
       "    <tr>\n",
       "      <th>4</th>\n",
       "      <td>27</td>\n",
       "      <td>0</td>\n",
       "      <td>1</td>\n",
       "      <td>591</td>\n",
       "      <td>1</td>\n",
       "      <td>2</td>\n",
       "      <td>1</td>\n",
       "      <td>6</td>\n",
       "      <td>1</td>\n",
       "      <td>5</td>\n",
       "      <td>...</td>\n",
       "      <td>4</td>\n",
       "      <td>80</td>\n",
       "      <td>1</td>\n",
       "      <td>6</td>\n",
       "      <td>3</td>\n",
       "      <td>3</td>\n",
       "      <td>2</td>\n",
       "      <td>2</td>\n",
       "      <td>2</td>\n",
       "      <td>2</td>\n",
       "    </tr>\n",
       "  </tbody>\n",
       "</table>\n",
       "<p>5 rows × 35 columns</p>\n",
       "</div>"
      ],
      "text/plain": [
       "   Age  Attrition  BusinessTravel  DailyRate  Department  DistanceFromHome  \\\n",
       "0   41          1               1       1102           3                 1   \n",
       "1   49          0               2        279           1                 8   \n",
       "2   37          1               1       1373           1                 2   \n",
       "3   33          0               2       1392           1                 3   \n",
       "4   27          0               1        591           1                 2   \n",
       "\n",
       "   Education  EducationField  EmployeeCount  EmployeeNumber  \\\n",
       "0          2               1              1               1   \n",
       "1          1               1              1               2   \n",
       "2          2               5              1               3   \n",
       "3          4               1              1               4   \n",
       "4          1               6              1               5   \n",
       "\n",
       "           ...           RelationshipSatisfaction  StandardHours  \\\n",
       "0          ...                                  1             80   \n",
       "1          ...                                  4             80   \n",
       "2          ...                                  2             80   \n",
       "3          ...                                  3             80   \n",
       "4          ...                                  4             80   \n",
       "\n",
       "   StockOptionLevel  TotalWorkingYears  TrainingTimesLastYear  \\\n",
       "0                 0                  8                      0   \n",
       "1                 1                 10                      3   \n",
       "2                 0                  7                      3   \n",
       "3                 0                  8                      3   \n",
       "4                 1                  6                      3   \n",
       "\n",
       "   WorkLifeBalance  YearsAtCompany  YearsInCurrentRole  \\\n",
       "0                1               6                   4   \n",
       "1                3              10                   7   \n",
       "2                3               0                   0   \n",
       "3                3               8                   7   \n",
       "4                3               2                   2   \n",
       "\n",
       "   YearsSinceLastPromotion  YearsWithCurrManager  \n",
       "0                        0                     5  \n",
       "1                        1                     7  \n",
       "2                        0                     0  \n",
       "3                        3                     0  \n",
       "4                        2                     2  \n",
       "\n",
       "[5 rows x 35 columns]"
      ]
     },
     "execution_count": 3,
     "metadata": {},
     "output_type": "execute_result"
    }
   ],
   "source": [
    "mymap = {'Yes':1,'No':0,'Travel_Rarely':1, 'Travel_Frequently': 2 ,'Non-Travel':3, 'Research & Development' :1 , \n",
    "         'Human Resources':2,'Sales':3,'Life Sciences':1,'Medical':6,'Technical Degree':3,'Marketing':4,'Other':5,\n",
    "        'Female':1, 'Male':2,'Research Scientist':1,'Laboratory Technician':2,'Healthcare Representative':3,\n",
    "         'Manufacturing Director':4,'Manager':5,'Sales Representative':6,'Research Director':7,'Sales Executive':8,\n",
    "        'Single':1,'Married':2,'Divorced':3}#Medical = 6 as HR =2 in another column\n",
    "\n",
    "#\n",
    "dfh =df.applymap(lambda s: mymap.get(s) if s in mymap else s)\n",
    "#\n",
    "dfh.head(5)\n",
    "#\n",
    "# In mymap == Yes =1 and No =0 - replacements made in both Attrition and OverTime\n",
    "# http://pandas.pydata.org/pandas-docs/stable/generated/pandas.DataFrame.applymap.html\n",
    "\n",
    "#dfh.to_csv('dfh_05DEC.csv') # Ok for down csv "
   ]
  },
  {
   "cell_type": "code",
   "execution_count": 39,
   "metadata": {
    "collapsed": false
   },
   "outputs": [
    {
     "name": "stdout",
     "output_type": "stream",
     "text": [
      "(2940, 35)\n",
      "________________________________________\n",
      "0    2466\n",
      "1     474\n",
      "Name: Attrition, dtype: int64\n",
      "________________________________________\n",
      "['Age' 'Attrition' 'BusinessTravel' 'DailyRate' 'Department'\n",
      " 'DistanceFromHome' 'Education' 'EducationField' 'EmployeeCount'\n",
      " 'EmployeeNumber' 'EnvironmentSatisfaction' 'Gender' 'HourlyRate'\n",
      " 'JobInvolvement' 'JobLevel' 'JobRole' 'JobSatisfaction' 'MaritalStatus'\n",
      " 'MonthlyIncome' 'MonthlyRate' 'NumCompaniesWorked' 'Over18' 'OverTime'\n",
      " 'PercentSalaryHike' 'PerformanceRating' 'RelationshipSatisfaction'\n",
      " 'StandardHours' 'StockOptionLevel' 'TotalWorkingYears'\n",
      " 'TrainingTimesLastYear' 'WorkLifeBalance' 'YearsAtCompany'\n",
      " 'YearsInCurrentRole' 'YearsSinceLastPromotion' 'YearsWithCurrManager']\n"
     ]
    }
   ],
   "source": [
    "print dfh.shape\n",
    "\n",
    "print \"________________________________________\"\n",
    "\n",
    "print dfh[\"Attrition\"].value_counts() # Here - 0 == Live Employee , 1 == Exited Employee / Attrited Employee \n",
    "\n",
    "names = dfh.columns.values\n",
    "\n",
    "print \"________________________________________\"\n",
    "\n",
    "print names\n"
   ]
  },
  {
   "cell_type": "code",
   "execution_count": 40,
   "metadata": {
    "collapsed": false
   },
   "outputs": [
    {
     "name": "stdout",
     "output_type": "stream",
     "text": [
      "(2940, 32)\n",
      "['Age' 'Attrition' 'BusinessTravel' 'DailyRate' 'Department'\n",
      " 'DistanceFromHome' 'Education' 'EducationField' 'EnvironmentSatisfaction'\n",
      " 'Gender' 'HourlyRate' 'JobInvolvement' 'JobLevel' 'JobRole'\n",
      " 'JobSatisfaction' 'MaritalStatus' 'MonthlyIncome' 'MonthlyRate'\n",
      " 'NumCompaniesWorked' 'OverTime' 'PercentSalaryHike' 'PerformanceRating'\n",
      " 'RelationshipSatisfaction' 'StandardHours' 'StockOptionLevel'\n",
      " 'TotalWorkingYears' 'TrainingTimesLastYear' 'WorkLifeBalance'\n",
      " 'YearsAtCompany' 'YearsInCurrentRole' 'YearsSinceLastPromotion'\n",
      " 'YearsWithCurrManager']\n",
      "___####_________________________________________________________________####_______\n",
      "   Age  Attrition  BusinessTravel  DailyRate  Department  DistanceFromHome  \\\n",
      "0   41          1               1       1102           3                 1   \n",
      "1   49          0               2        279           1                 8   \n",
      "2   37          1               1       1373           1                 2   \n",
      "3   33          0               2       1392           1                 3   \n",
      "4   27          0               1        591           1                 2   \n",
      "\n",
      "   Education  EducationField  EnvironmentSatisfaction  Gender  \\\n",
      "0          2               1                        2       1   \n",
      "1          1               1                        3       2   \n",
      "2          2               5                        4       2   \n",
      "3          4               1                        4       1   \n",
      "4          1               6                        1       2   \n",
      "\n",
      "           ...           RelationshipSatisfaction  StandardHours  \\\n",
      "0          ...                                  1             80   \n",
      "1          ...                                  4             80   \n",
      "2          ...                                  2             80   \n",
      "3          ...                                  3             80   \n",
      "4          ...                                  4             80   \n",
      "\n",
      "   StockOptionLevel  TotalWorkingYears  TrainingTimesLastYear  \\\n",
      "0                 0                  8                      0   \n",
      "1                 1                 10                      3   \n",
      "2                 0                  7                      3   \n",
      "3                 0                  8                      3   \n",
      "4                 1                  6                      3   \n",
      "\n",
      "   WorkLifeBalance  YearsAtCompany  YearsInCurrentRole  \\\n",
      "0                1               6                   4   \n",
      "1                3              10                   7   \n",
      "2                3               0                   0   \n",
      "3                3               8                   7   \n",
      "4                3               2                   2   \n",
      "\n",
      "   YearsSinceLastPromotion  YearsWithCurrManager  \n",
      "0                        0                     5  \n",
      "1                        1                     7  \n",
      "2                        0                     0  \n",
      "3                        3                     0  \n",
      "4                        2                     2  \n",
      "\n",
      "[5 rows x 32 columns]\n"
     ]
    }
   ],
   "source": [
    "# Columns - Age =0 , Attrition =1 .....\n",
    "# Columns - 0,3,5,12,18,19,23,28,31,32,33,34 -retained for PCA,only these Columns or Features have Continous Data - others are Categorical\n",
    "# Age,DailyRate,DistanceFromHome,HourlyRate,MonthlyIncome,MonthlyRate,PercentSalaryHike,TotalWorkingYears,YearsAtCompany,YearsInCurrentRole,YearsSinceLastPromotion,YearsWithCurrManager\n",
    "\n",
    "df1 = dfh.drop(df.columns[[8,9,21]],axis=1,inplace=False) #  OK for now \n",
    "# \n",
    "print df1.shape\n",
    "print df1.columns.values\n",
    "print \"___####_________________________________________________________________####_______\"\n",
    "print df1.head(5)\n",
    "\n",
    "#dfpca.describe(include = 'all') # Not required \n",
    "#\n",
    "# http://stackoverflow.com/questions/13411544/delete-column-from-pandas-dataframe\n",
    "# df.drop(df.columns[[0, 1, 3]], axis=1)  # df.columns is zero-based pd.Index \n",
    "# in Pandas axis=1 -- means ------------->>> AXIS along the Rows - WEST to EAST \n",
    "# axis=0 --- means ------------->>> AXIS along the Columns - NORTH to SOUTH \n",
    "#drop_list = ['Department','Education','EducationField'] # Such a list wont work ??\n",
    "#\n",
    "#test_ids = df1.pop(\"Age\")        ### Want Single Column Vector with Feature AGE - use POP on DF \n",
    "#print test_ids                     ### OK "
   ]
  },
  {
   "cell_type": "code",
   "execution_count": 41,
   "metadata": {
    "collapsed": false
   },
   "outputs": [
    {
     "name": "stdout",
     "output_type": "stream",
     "text": [
      "<type 'numpy.ndarray'>\n",
      "<type 'numpy.ndarray'>\n",
      "(2940, 30)\n",
      "(2940,)\n",
      "[[   1 1102    3 ...,    4    0    5]\n",
      " [   2  279    1 ...,    7    1    7]\n",
      " [   1 1373    1 ...,    0    0    0]\n",
      " ..., \n",
      " [   1  155    1 ...,    2    0    3]\n",
      " [   2 1023    3 ...,    6    0    8]\n",
      " [   1  628    1 ...,    3    1    2]]\n",
      "_________________________________________________________\n",
      "('Target Variable \"Attrition\":', array([1, 0, 1, ..., 0, 0, 0]))\n",
      "_________________________________________________________\n",
      "('Class labels for Target Variable \"Attrition\":', array([0, 1]))\n",
      "________________\n",
      "Percentage of Class Label ==1 = 0.1612\n",
      "Percentage of Class Label ==0 = 0.8388\n",
      "_________________________________________________________\n",
      "_Any model that Predicts at 83.88% Accuracy is a Non Predictor OR a NO Model- as it always predicts the Dominant Class \n",
      " which in our case is ZERO or LIVE EMPLOYEE - we need more than 83.88% accuracy score___\n"
     ]
    }
   ],
   "source": [
    "# Convert DF to Numpy Array \n",
    "# 1st Numpy Array == X , only features \n",
    "# 2nd Numpy Array == y , only target Labels\n",
    "#\n",
    "\n",
    "import numpy as np\n",
    "\n",
    "X = df1.iloc[:,2:32].values # All Features of - df1 besides Attr and AGE #TBD --- Need to ADD AGE ??? \n",
    "y = dfh.iloc[:,1].values # Choosing only 1 - Target Feature from - dfh\n",
    "#\n",
    "print type(X)\n",
    "print type(y)\n",
    "#\n",
    "print X.shape\n",
    "print y.shape\n",
    "#\n",
    "print X\n",
    "print \"_________________________________________________________\"\n",
    "print('Target Variable \"Attrition\":', (y))\n",
    "print \"_________________________________________________________\"\n",
    "print('Class labels for Target Variable \"Attrition\":', np.unique(y))\n",
    "print \"________________\"\n",
    "print('Percentage of Class Label ==1 = {:.4f}'.format(dfh[\"Attrition\"].mean()))\n",
    "print('Percentage of Class Label ==0 = {:.4f}'.format(1-dfh[\"Attrition\"].mean()))\n",
    "print \"_________________________________________________________\"\n",
    "# \n",
    "print \"_Any model that Predicts at 83.88% Accuracy is a Non Predictor OR a NO Model- as it always predicts the Dominant Class \"\n",
    "print \" which in our case is ZERO or LIVE EMPLOYEE - we need more than 83.88% accuracy score___\""
   ]
  },
  {
   "cell_type": "code",
   "execution_count": 9,
   "metadata": {
    "collapsed": false
   },
   "outputs": [
    {
     "name": "stdout",
     "output_type": "stream",
     "text": [
      "(2058, 30)\n",
      "(882, 30)\n",
      "(2058,)\n",
      "(882,)\n"
     ]
    }
   ],
   "source": [
    "# Utility === # Added version check for recent scikit-learn 0.18 checks\n",
    "from distutils.version import LooseVersion as Version\n",
    "from sklearn import __version__ as sklearn_version\n",
    "import random\n",
    "random.seed(123) # if we dont seed - we get different results \n",
    "\n",
    "# Splitting data into 70% training and 30% test data:\n",
    "\n",
    "if Version(sklearn_version) < '0.18':\n",
    "    from sklearn.cross_validation import train_test_split\n",
    "else:\n",
    "    from sklearn.model_selection import train_test_split\n",
    "\n",
    "X_train, X_test, y_train, y_test = train_test_split(X, y, test_size=0.3, random_state=0)\n",
    "#\n",
    "print X_train.shape\n",
    "print X_test.shape\n",
    "print y_train.shape # Pred Variable Only - Attrition--  Train Set \n",
    "print y_test.shape  # Pred Variable Only - Attrition--  Test Set \n"
   ]
  },
  {
   "cell_type": "code",
   "execution_count": 42,
   "metadata": {
    "collapsed": true
   },
   "outputs": [],
   "source": [
    "# 06 DEC \n",
    "\n",
    "# import and instantiate a logistic regression model\n",
    "from sklearn.linear_model import LogisticRegression\n",
    "logreg = LogisticRegression()"
   ]
  },
  {
   "cell_type": "code",
   "execution_count": 43,
   "metadata": {
    "collapsed": false
   },
   "outputs": [
    {
     "name": "stdout",
     "output_type": "stream",
     "text": [
      "CPU times: user 92 ms, sys: 4 ms, total: 96 ms\n",
      "Wall time: 236 ms\n",
      "[ 0.0005462]\n",
      "____________________________\n",
      "[[  2.03390177e-02  -2.83789590e-04   4.40982987e-01   3.32586817e-02\n",
      "   -1.50035171e-02  -2.84892487e-02  -3.68481044e-01   2.05502141e-01\n",
      "   -2.79636060e-03  -4.41114313e-01  -1.84726722e-01  -4.88007777e-02\n",
      "   -3.67111012e-01  -4.79376685e-01  -5.64266204e-05   1.18016597e-05\n",
      "    1.35473480e-01   1.48497071e+00  -5.11941990e-02   1.89834986e-01\n",
      "   -2.02756713e-01   4.36959547e-02  -2.19774636e-01  -6.34101670e-02\n",
      "   -9.98116795e-02  -1.93761837e-01   1.05970364e-01  -1.31254951e-01\n",
      "    1.30160915e-01  -1.23466820e-01]]\n"
     ]
    },
    {
     "data": {
      "text/plain": [
       "'\\n1st Run === Seed=== 123 \\n\\nCPU times: user 76 ms, sys: 4 ms, total: 80 ms\\nWall time: 326 ms\\n[ 0.0005462]\\n____________________________\\n[[  2.03390177e-02  -2.83789590e-04   4.40982987e-01   3.32586817e-02\\n   -1.50035171e-02  -2.84892487e-02  -3.68481044e-01   2.05502141e-01\\n   -2.79636060e-03  -4.41114313e-01  -1.84726722e-01  -4.88007777e-02\\n   -3.67111012e-01  -4.79376685e-01  -5.64266204e-05   1.18016597e-05\\n    1.35473480e-01   1.48497071e+00  -5.11941990e-02   1.89834986e-01\\n   -2.02756713e-01   4.36959547e-02  -2.19774636e-01  -6.34101670e-02\\n   -9.98116795e-02  -1.93761837e-01   1.05970364e-01  -1.31254951e-01\\n    1.30160915e-01  -1.23466820e-01]]\\n    \\n\\nTBD ----- 2nd RUN === NO Seed \\n\\n\\n\\n'"
      ]
     },
     "execution_count": 43,
     "metadata": {},
     "output_type": "execute_result"
    }
   ],
   "source": [
    "# train the model using X_train # the MODEL FIT \n",
    "\n",
    "\n",
    "%time logreg.fit(X_train, y_train)\n",
    "\n",
    "print(logreg.intercept_)\n",
    "print \"____________________________\"\n",
    "print(logreg.coef_)\n",
    "\n",
    "\n",
    "'''\n",
    "1st Run === Seed=== 123 \n",
    "\n",
    "CPU times: user 76 ms, sys: 4 ms, total: 80 ms\n",
    "Wall time: 326 ms\n",
    "[ 0.0005462]\n",
    "____________________________\n",
    "[[  2.03390177e-02  -2.83789590e-04   4.40982987e-01   3.32586817e-02\n",
    "   -1.50035171e-02  -2.84892487e-02  -3.68481044e-01   2.05502141e-01\n",
    "   -2.79636060e-03  -4.41114313e-01  -1.84726722e-01  -4.88007777e-02\n",
    "   -3.67111012e-01  -4.79376685e-01  -5.64266204e-05   1.18016597e-05\n",
    "    1.35473480e-01   1.48497071e+00  -5.11941990e-02   1.89834986e-01\n",
    "   -2.02756713e-01   4.36959547e-02  -2.19774636e-01  -6.34101670e-02\n",
    "   -9.98116795e-02  -1.93761837e-01   1.05970364e-01  -1.31254951e-01\n",
    "    1.30160915e-01  -1.23466820e-01]]\n",
    "    \n",
    "\n",
    "TBD ----- 2nd RUN === NO Seed \n",
    "\n",
    "\n",
    "\n",
    "'''"
   ]
  },
  {
   "cell_type": "code",
   "execution_count": 44,
   "metadata": {
    "collapsed": false
   },
   "outputs": [
    {
     "name": "stdout",
     "output_type": "stream",
     "text": [
      "<type 'numpy.ndarray'>\n"
     ]
    },
    {
     "data": {
      "text/plain": [
       "'\\n# TBD --- Check \\n\\nprint y_pred_class.shape\\nprint y_pred_class\\nprint \"__________________________________\"\\nprint y_test\\n\\n'"
      ]
     },
     "execution_count": 44,
     "metadata": {},
     "output_type": "execute_result"
    }
   ],
   "source": [
    "# make class predictions for X_test # the MODEL PRED \n",
    "\n",
    "y_pred_class = logreg.predict(X_test)\n",
    "print type(y_pred_class)\n",
    "\n",
    "\n",
    "'''\n",
    "# TBD --- Check \n",
    "\n",
    "print y_pred_class.shape\n",
    "print y_pred_class\n",
    "print \"__________________________________\"\n",
    "print y_test\n",
    "\n",
    "'''\n"
   ]
  },
  {
   "cell_type": "code",
   "execution_count": 13,
   "metadata": {
    "collapsed": false
   },
   "outputs": [],
   "source": [
    "# calculate predicted probabilities for X_test(well calibrated)\n",
    "y_pred_prob = logreg.predict_proba(X_test)[:, 1]\n",
    "#y_pred_prob #Ok Dont "
   ]
  },
  {
   "cell_type": "code",
   "execution_count": 45,
   "metadata": {
    "collapsed": false
   },
   "outputs": [
    {
     "name": "stdout",
     "output_type": "stream",
     "text": [
      "882\n",
      "__________________________________________\n",
      "882\n",
      "Logistic Reg Model predicted classes: [0 1 0 0 0 0 0 0 0 0 0 1 0 0 0 0 0 0 0 0 0 0 0 0 0 0 0 0 0 0 0 0 0 0 0 0 0\n",
      " 0 0 0 0 0 0 0 0 0 0 0 0 0 0 0 1 0 0 0 0 0 0 0 0 0 0 0 0 0 1 0 0 0 0 0 0 0\n",
      " 0 0 0 1 0 1 0 0 0 0 0 1 0 0 0 0 0 0 0 0 0 0 0 0 0 0 1 0 0 0 0 0 0 0 0 0 0\n",
      " 0 0 0 1 0 0 0 1 1 0 0 0 0 0 0 0 0 0 0 0 0 0 0 0 0 0 0 0 0 0 0 0 0 0 0 0 0\n",
      " 0 0 0 0 0 0 0 0 0 0 0 0 0 0 0 0 0 0 0 0 0 1 0 0 0 0 0 1 0 0 0 0 0 1 0 0 0\n",
      " 0 0 0 0 0 0 0 0 0 0 0 0 0 0 0 1 0 0 0 0 1 0 0 0 0 0 0 0 0 0 0 0 1 0 0 0 0\n",
      " 0 0 0 0 0 0 0 0 0 1 0 0 0 0 0 0 0 0 0 0 0 0 0 0 0 0 0 0 0 0 0 0 0 0 1 1 1\n",
      " 0 0 0 0 0 0 0 0 0 1 0 0 0 1 0 0 0 0 0 1 0 0 0 0 0 0 0 0 0 0 0 0 0 0 0 0 0\n",
      " 1 0 0 0 0 0 0 0 0 0 0 0 0 0 0 0 0 0 0 0 1 0 0 0 0 0 0 0 0 0 0 0 1 0 1 0 0\n",
      " 0 0 0 0 0 1 0 0 0 0 0 0 0 0 0 0 0 0 0 0 0 0 0 0 0 1 0 0 0 0 0 0 0 0 0 0 0\n",
      " 0 0 0 0 0 0 0 0 1 0 0 0 0 0 0 0 0 0 0 0 0 0 1 0 0 0 0 0 0 0 0 0 0 0 0 0 0\n",
      " 0 0 0 0 0 0 0 0 0 1 0 0 0 0 0 0 0 0 0 0 0 0 0 0 0 0 0 0 0 0 1 0 0 0 0 0 0\n",
      " 0 0 0 0 0 0 0 0 0 0 0 0 0 0 0 0 0 0 0 0 0 0 0 0 0 0 0 0 0 0 0 0 0 0 0 0 0\n",
      " 0 0 0 0 0 1 0 1 0 0 0 0 0 0 0 0 0 0 1 0 0 0 0 0 0 0 0 0 0 0 0 0 1 0 0 0 0\n",
      " 0 0 0 1 0 0 0 0 0 0 1 0 0 0 0 0 0 0 0 0 0 0 0 0 0 0 0 1 0 0 0 0 0 0 0 0 0\n",
      " 1 0 0 0 0 0 0 0 0 0 0 0 0 0 0 0 0 0 1 0 0 0 0 0 0 1 0 0 0 1 0 0 0 0 0 0 0\n",
      " 1 1 0 0 0 0 0 0 0 0 0 0 0 0 0 0 0 0 0 0 0 0 0 0 0 0 0 0 0 0 0 0 0 1 0 0 0\n",
      " 0 0 0 1 0 0 0 0 0 0 0 0 0 0 0 0 1 0 0 0 0 0 0 0 0 0 0 0 0 0 0 1 0 0 0 0 0\n",
      " 0 0 0 0 0 0 0 0 0 0 0 0 0 0 0 1 0 0 0 1 0 0 0 0 0 0 0 0 0 0 0 0 0 0 0 0 0\n",
      " 0 0 0 0 0 1 0 0 0 0 0 0 0 0 0 0 0 0 0 0 0 1 0 0 0 0 0 0 0 0 1 0 1 0 0 0 1\n",
      " 0 0 0 0 0 0 0 0 1 0 0 0 0 1 0 0 1 0 0 1 0 0 0 0 0 0 0 0 0 0 0 0 0 0 0 0 0\n",
      " 0 0 0 0 0 0 0 0 0 0 0 0 0 0 0 0 0 0 0 0 1 0 0 0 0 0 0 0 0 0 0 0 0 0 0 0 0\n",
      " 0 0 0 0 0 0 0 0 0 0 0 1 0 0 0 0 0 0 0 0 0 0 0 0 0 0 0 0 0 0 0 0 0 1 0 0 0\n",
      " 0 0 0 0 0 0 1 0 0 0 0 0 0 1 0 0 0 0 0 0 0 0 1 0 0 0 0 0 0 0 0]\n",
      "Actual data - Real classes: [0 1 0 0 0 0 0 1 0 0 0 1 0 0 0 0 0 0 0 0 0 0 0 0 1 0 0 0 0 0 0 0 0 0 0 0 0\n",
      " 0 0 1 0 0 0 0 0 0 0 0 0 0 0 1 0 0 0 0 0 0 0 0 0 0 0 0 0 1 1 0 0 0 0 0 0 0\n",
      " 0 1 0 1 0 1 0 0 1 0 0 1 0 0 0 0 0 1 0 0 0 0 0 0 0 0 1 0 0 0 0 0 1 0 0 0 1\n",
      " 0 0 0 1 0 0 0 1 1 0 0 0 0 0 0 0 0 0 1 0 1 0 0 0 0 0 1 0 0 0 0 0 0 0 0 0 0\n",
      " 0 0 0 0 0 0 0 0 0 0 1 0 0 0 0 0 0 0 0 0 0 1 0 1 0 1 0 1 0 0 0 0 0 1 0 0 0\n",
      " 0 0 0 0 0 0 0 0 0 0 0 0 0 0 0 0 0 0 0 0 1 0 0 0 0 0 0 1 0 1 1 1 0 0 0 0 0\n",
      " 1 0 0 0 0 0 0 0 0 1 0 0 0 0 1 0 0 0 0 1 0 0 0 0 0 1 0 0 0 0 0 0 0 0 1 1 1\n",
      " 0 0 0 0 0 0 0 0 0 0 0 0 0 1 0 0 0 0 0 0 0 0 1 1 0 0 0 0 0 1 0 0 0 1 0 0 0\n",
      " 1 0 0 0 0 0 1 0 0 0 0 0 0 0 0 0 0 0 1 0 1 0 0 0 1 0 0 0 0 0 0 0 0 0 1 0 0\n",
      " 0 0 1 0 0 1 0 0 0 1 0 0 0 0 0 1 0 0 0 0 0 1 0 0 0 1 0 0 1 0 0 0 0 0 0 0 0\n",
      " 0 0 0 0 0 0 1 0 1 0 0 0 0 0 0 0 0 0 1 1 0 0 0 0 0 0 0 0 1 0 0 0 0 0 1 0 0\n",
      " 0 0 0 1 0 0 0 0 0 1 0 0 0 0 0 0 1 0 0 0 0 0 0 0 0 0 0 1 0 0 1 0 1 0 0 0 1\n",
      " 0 0 1 0 0 0 0 1 1 0 1 0 0 0 0 0 0 0 0 0 0 0 0 0 0 1 0 0 0 1 0 0 0 0 0 0 0\n",
      " 0 0 0 0 0 1 0 1 0 0 0 0 1 0 0 0 0 0 1 0 0 0 0 0 0 0 0 0 0 1 0 1 1 0 0 0 0\n",
      " 0 0 1 0 0 0 0 0 0 0 1 0 0 0 0 0 0 0 0 0 0 0 0 0 0 0 0 1 0 0 0 1 0 0 0 0 0\n",
      " 1 0 1 0 1 0 0 1 0 0 0 0 0 0 0 0 1 0 1 0 1 0 0 0 0 1 0 1 0 1 0 0 0 0 0 0 0\n",
      " 1 1 0 0 0 0 0 0 0 0 0 1 0 0 0 0 1 0 0 0 0 0 0 0 0 0 0 1 0 0 1 1 0 1 0 0 0\n",
      " 0 0 0 1 0 0 0 0 1 0 1 0 1 0 0 0 0 0 0 0 0 0 0 0 0 1 1 0 0 0 0 1 0 0 0 0 0\n",
      " 0 0 0 0 0 1 0 0 0 0 0 0 1 1 0 0 0 0 0 1 0 0 0 0 0 0 0 0 0 0 0 0 0 0 0 0 0\n",
      " 0 0 0 0 0 1 1 0 0 0 0 1 0 0 0 0 0 0 0 0 0 1 0 0 0 0 0 0 0 1 1 0 1 0 1 0 0\n",
      " 0 0 0 0 0 0 0 1 0 0 0 0 0 0 0 0 1 1 0 1 0 0 1 0 0 0 0 0 0 0 0 0 0 0 0 0 0\n",
      " 0 0 0 0 0 0 0 0 1 0 0 0 0 1 0 0 0 0 0 0 1 0 0 0 0 0 0 0 0 0 0 0 0 0 0 0 0\n",
      " 0 0 0 1 0 0 0 0 1 0 0 1 0 0 0 1 0 0 0 0 0 0 0 0 0 0 0 1 0 0 0 0 0 1 0 0 0\n",
      " 0 0 0 1 0 0 0 0 0 1 0 0 0 0 0 0 1 0 0 0 0 0 1 0 0 0 0 0 0 0 0]\n",
      "__________________________________________\n",
      "0.878684807256\n",
      "_____Model Evaluation with AUC Area Under the Curve __________________\n",
      "0.672582229916\n",
      "             precision    recall  f1-score   support\n",
      "\n",
      "          0       0.89      0.98      0.93       737\n",
      "          1       0.78      0.37      0.50       145\n",
      "\n",
      "avg / total       0.87      0.88      0.86       882\n",
      "\n"
     ]
    },
    {
     "data": {
      "text/plain": [
       "'\\n##########################\\n# PCA data set --- Exactly same with multiple runs - seed or no seed -- \\n\\n0.834467120181\\nprecision    recall  f1-score   support\\n\\n          0       0.84      1.00      0.91       737\\n          1       0.00      0.00      0.00       145       ##### Notice All ZERO\\'s === No 1\\'s being Predicted ?? \\n\\navg / total       0.70      0.83      0.76       882\\n\\n##########################\\nNon PCA Data Set with Seed 123 \\n\\n#1 _____Model Evaluation\\n0.878684807256 == 87.86% , Accuracy Score - which is OK not Good as a Non Model is supposed to have - \\nAs calculated above earlier = 1-dfh[\"Attrition].mean() == 83.88% \\n\\n#2_____Model Evaluation with AUC Area Under the Curve __________________\\n0.672582229916 = 67.25%\\n\\n0.878684807256\\n             precision    recall  f1-score   support\\n\\n          0       0.89      0.98      0.93       737\\n          1       0.78      0.37      0.50       145      ##### Notice All Non ZERO\\'s === \\n\\navg / total       0.87      0.88      0.86       882\\n\\n\\n'"
      ]
     },
     "execution_count": 45,
     "metadata": {},
     "output_type": "execute_result"
    }
   ],
   "source": [
    "# calculate accuracy MODEL EVAL \n",
    "# calculate accuracy of class predictions\n",
    "from sklearn import metrics\n",
    "\n",
    "print len(y_pred_class)\n",
    "\n",
    "\n",
    "print \"__________________________________________\"\n",
    "print len(y_test)\n",
    "\n",
    "print('Logistic Reg Model predicted classes: {}'.format(y_pred_class))\n",
    "print('Actual data - Real classes: {}'.format(y_test))\n",
    "\n",
    "print \"__________________________________________\"\n",
    "\n",
    "print metrics.accuracy_score(y_test, y_pred_class)\n",
    "\n",
    "print \"_____Model Evaluation with AUC Area Under the Curve __________________\"\n",
    "print metrics.roc_auc_score(y_test, y_pred_class)\n",
    "\n",
    "\n",
    "########\n",
    "\n",
    "#metrics\n",
    "\n",
    "from sklearn import metrics\n",
    "print(metrics.classification_report(y_test, y_pred_class))\n",
    "\n",
    "'''\n",
    "##########################\n",
    "# PCA data set --- Exactly same with multiple runs - seed or no seed -- \n",
    "\n",
    "0.834467120181\n",
    "precision    recall  f1-score   support\n",
    "\n",
    "          0       0.84      1.00      0.91       737\n",
    "          1       0.00      0.00      0.00       145       ##### Notice All ZERO's === NO 1's being Predicted ?? \n",
    "\n",
    "avg / total       0.70      0.83      0.76       882\n",
    "\n",
    "##########################\n",
    "Non PCA Data Set with Seed 123 \n",
    "\n",
    "#1 _____Model Evaluation\n",
    "0.878684807256 == 87.86% , Accuracy Score - which is OK not Good as a Non Model is supposed to have - \n",
    "As calculated above earlier = 1-dfh[\"Attrition].mean() == 83.88% \n",
    "\n",
    "#2_____Model Evaluation with AUC Area Under the Curve __________________\n",
    "0.672582229916 = 67.25%\n",
    "\n",
    "0.878684807256\n",
    "             precision    recall  f1-score   support\n",
    "\n",
    "          0       0.89      0.98      0.93       737\n",
    "          1       0.78      0.37      0.50       145      ##### Notice All Non ZERO's === \n",
    "\n",
    "avg / total       0.87      0.88      0.86       882\n",
    "\n",
    "\n",
    "'''"
   ]
  },
  {
   "cell_type": "code",
   "execution_count": 46,
   "metadata": {
    "collapsed": false
   },
   "outputs": [
    {
     "name": "stdout",
     "output_type": "stream",
     "text": [
      "[[722  15]\n",
      " [ 92  53]]\n"
     ]
    },
    {
     "data": {
      "text/plain": [
       "'\\n\\n         PRED      PRED\\n    _____0___________1________\\nACTUAL | TN   |     FP\\n  0    |      |\\n    ________________________\\nACTUAL | FN   |     TP\\n  1    |      |\\n    ________________________\\n\\n\\narray([[722== TN,  15 == FP],\\n       [ 92== FN,  53 == TP]])\\n       \\n'"
      ]
     },
     "execution_count": 46,
     "metadata": {},
     "output_type": "execute_result"
    }
   ],
   "source": [
    "# print the confusion matrix\n",
    "print metrics.confusion_matrix(y_test, y_pred_class)\n",
    "\n",
    "# Total 882 \n",
    "\n",
    "'''\n",
    "\n",
    "         PRED      PRED\n",
    "    _____0___________1________\n",
    "ACTUAL | TN   |     FP\n",
    "  0    |      |\n",
    "    ________________________\n",
    "ACTUAL | FN   |     TP\n",
    "  1    |      |\n",
    "    ________________________\n",
    "\n",
    "\n",
    "array([[722== TN,  15 == FP],\n",
    "       [ 92== FN,  53 == TP]])\n",
    "       \n",
    "'''"
   ]
  },
  {
   "cell_type": "code",
   "execution_count": 18,
   "metadata": {
    "collapsed": false
   },
   "outputs": [
    {
     "name": "stdout",
     "output_type": "stream",
     "text": [
      "<type 'numpy.ndarray'>\n",
      "(775, 30)\n",
      "[[   1  882    3 ...,    9    0    8]\n",
      " [   2  667    3 ...,    0    0    0]\n",
      " [   1  317    1 ...,    4    0    2]\n",
      " ..., \n",
      " [   1  506    1 ...,    2    1    2]\n",
      " [   1 1079    3 ...,    2    1    4]\n",
      " [   3 1229    3 ...,    7    0    7]]\n"
     ]
    }
   ],
   "source": [
    "#print the True positives # Check Term -- \"True positives\" \n",
    "\n",
    "X_test[y_test == y_pred_class]\n",
    "\n",
    "T_Positives = X_test[y_test == y_pred_class]\n",
    "\n",
    "print type(T_Positives)\n",
    "\n",
    "print T_Positives.shape\n",
    "# (775, 30) == 722 + 53 == Diagonal 1 \n",
    "\n",
    "print T_Positives"
   ]
  },
  {
   "cell_type": "code",
   "execution_count": 36,
   "metadata": {
    "collapsed": false
   },
   "outputs": [
    {
     "name": "stdout",
     "output_type": "stream",
     "text": [
      "<type 'numpy.ndarray'>\n",
      "(146, 12)\n",
      "[[  31  667    1 ...,    0    0    0]\n",
      " [  29  992    1 ...,    2    1    5]\n",
      " [  26  342    2 ...,    2    1    2]\n",
      " ..., \n",
      " [  34  988   23 ...,    2    0    2]\n",
      " [  26 1330   21 ...,    1    0    0]\n",
      " [  25  383    9 ...,    2    2    2]]\n"
     ]
    },
    {
     "data": {
      "text/plain": [
       "\"\\n\\n<type 'numpy.ndarray'>\\n(146, 12)\\n[[  31  667    1 ...,    0    0    0]\\n [  29  992    1 ...,    2    1    5]\\n [  26  342    2 ...,    2    1    2]\\n ..., \\n [  34  988   23 ...,    2    0    2]\\n [  26 1330   21 ...,    1    0    0]\\n [  25  383    9 ...,    2    2    2]]\\n\\n\\n\\n\""
      ]
     },
     "execution_count": 36,
     "metadata": {},
     "output_type": "execute_result"
    }
   ],
   "source": [
    "# print the True Negatives # Check Term -- \"T_Negatives\" \n",
    "\n",
    "X_test[y_test != y_pred_class]\n",
    "\n",
    "T_Negatives = X_test[y_test != y_pred_class]\n",
    "\n",
    "print type(T_Negatives)\n",
    "\n",
    "print T_Negatives.shape\n",
    "\n",
    "print T_Negatives\n",
    "\n",
    "# 146 = 145 + 1 --- from the Diagonal of Confusion Matrix seen above \n",
    "\n",
    "\n",
    "'''\n",
    "\n",
    "<type 'numpy.ndarray'>\n",
    "(146, 12)\n",
    "[[  31  667    1 ...,    0    0    0]\n",
    " [  29  992    1 ...,    2    1    5]\n",
    " [  26  342    2 ...,    2    1    2]\n",
    " ..., \n",
    " [  34  988   23 ...,    2    0    2]\n",
    " [  26 1330   21 ...,    1    0    0]\n",
    " [  25  383    9 ...,    2    2    2]]\n",
    "\n",
    "\n",
    "\n",
    "'''"
   ]
  },
  {
   "cell_type": "code",
   "execution_count": 37,
   "metadata": {
    "collapsed": false
   },
   "outputs": [
    {
     "name": "stdout",
     "output_type": "stream",
     "text": [
      "<type 'numpy.ndarray'>\n",
      "(1, 12)\n",
      "[[   32   267    29    49  2837 15919    13     6     6     2     4     1]]\n"
     ]
    }
   ],
   "source": [
    "# print the false positives\n",
    "\n",
    "X_test[y_test < y_pred_class]\n",
    "\n",
    "False_Positives = X_test[y_test < y_pred_class]\n",
    "print type(False_Positives)\n",
    "\n",
    "print False_Positives.shape\n",
    "\n",
    "print False_Positives"
   ]
  },
  {
   "cell_type": "code",
   "execution_count": 38,
   "metadata": {
    "collapsed": false
   },
   "outputs": [
    {
     "name": "stdout",
     "output_type": "stream",
     "text": [
      "<type 'numpy.ndarray'>\n",
      "(145, 12)\n",
      "[[  31  667    1 ...,    0    0    0]\n",
      " [  29  992    1 ...,    2    1    5]\n",
      " [  26  342    2 ...,    2    1    2]\n",
      " ..., \n",
      " [  34  988   23 ...,    2    0    2]\n",
      " [  26 1330   21 ...,    1    0    0]\n",
      " [  25  383    9 ...,    2    2    2]]\n"
     ]
    }
   ],
   "source": [
    "# print the false negatives \n",
    "\n",
    "False_Negatives = X_test[y_test > y_pred_class]\n",
    "print type(False_Negatives)\n",
    "\n",
    "print False_Negatives.shape\n",
    "\n",
    "print False_Negatives"
   ]
  },
  {
   "cell_type": "code",
   "execution_count": 14,
   "metadata": {
    "collapsed": false
   },
   "outputs": [
    {
     "data": {
      "text/plain": [
       "numpy.ndarray"
      ]
     },
     "execution_count": 14,
     "metadata": {},
     "output_type": "execute_result"
    }
   ],
   "source": [
    "type(y_pred_class)"
   ]
  },
  {
   "cell_type": "code",
   "execution_count": 15,
   "metadata": {
    "collapsed": false
   },
   "outputs": [
    {
     "data": {
      "text/plain": [
       "(882,)"
      ]
     },
     "execution_count": 15,
     "metadata": {},
     "output_type": "execute_result"
    }
   ],
   "source": [
    "y_pred_class.shape"
   ]
  },
  {
   "cell_type": "code",
   "execution_count": 42,
   "metadata": {
    "collapsed": false
   },
   "outputs": [],
   "source": [
    "# Correlation from DF Data \n",
    "import numpy as np\n",
    "import pandas as pd\n",
    "import matplotlib.pyplot as plt\n",
    "import seaborn\n",
    "\n",
    "corr_dfpca = dfpca.corr(method='pearson')\n",
    "\n",
    "#print(\"--------------- CORRELATIONS ---------------\")\n",
    "\n",
    "#print(corr_dfpca.head(len(dfpca))) # Not required as we are plottng the Correlation \n",
    "\n",
    "# We can look at Column 1 of the Print out below - see what all Features have a \n",
    "# greater than 0.1 Corr value - Negative or Positive both considered . "
   ]
  },
  {
   "cell_type": "code",
   "execution_count": 43,
   "metadata": {
    "collapsed": false
   },
   "outputs": [
    {
     "name": "stdout",
     "output_type": "stream",
     "text": [
      "--------------- CREATE A HEATMAP ---------------\n"
     ]
    },
    {
     "data": {
      "image/png": "[encoded data removed]",
      "text/plain": [
       "<matplotlib.figure.Figure at 0x7f33f19ba190>"
      ]
     },
     "metadata": {},
     "output_type": "display_data"
    }
   ],
   "source": [
    "print(\"--------------- CREATE A HEATMAP ---------------\")\n",
    "# Create a mask to display only the lower triangle of the matrix (since it's mirrored around its \n",
    "# top-left to bottom-right diagonal).\n",
    "mask = np.zeros_like(corr_dfpca)\n",
    "mask[np.triu_indices_from(mask)] = True\n",
    "# Create the heatmap using seaborn library. \n",
    "# List if colormaps (parameter 'cmap') is available here: http://matplotlib.org/examples/color/colormaps_reference.html\n",
    "seaborn.heatmap(corr_dfpca, cmap='RdYlGn_r', vmax=1.0, vmin=-1.0 , mask = mask, linewidths=2.5)\n",
    " \n",
    "# Show the plot we reorient the labels for each column and row to make them easier to read.\n",
    "plt.yticks(rotation=0) \n",
    "plt.xticks(rotation=90) \n",
    "plt.show()"
   ]
  },
  {
   "cell_type": "code",
   "execution_count": null,
   "metadata": {
    "collapsed": true
   },
   "outputs": [],
   "source": [
    "# Watch this space for more "
   ]
  }
 ],
 "metadata": {
  "anaconda-cloud": {},
  "kernelspec": {
   "display_name": "Python [default]",
   "language": "python",
   "name": "python2"
  },
  "language_info": {
   "codemirror_mode": {
    "name": "ipython",
    "version": 2
   },
   "file_extension": ".py",
   "mimetype": "text/x-python",
   "name": "python",
   "nbconvert_exporter": "python",
   "pygments_lexer": "ipython2",
   "version": "2.7.12"
  }
 },
 "nbformat": 4,
 "nbformat_minor": 1
}
